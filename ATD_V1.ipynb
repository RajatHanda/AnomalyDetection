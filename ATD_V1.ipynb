{
 "cells": [
  {
   "cell_type": "markdown",
   "metadata": {},
   "source": [
    "<h1>Company: <font color=\"blue\">American Tire Distributors<br></font></h1>\n",
    "     <b>Author:</b> Rajat Handa</a> <br>\n",
    "     <b>Email:</b> Handagmu@gmail.com<br>\n",
    "     <br><b>Goal:</b> To build a machine learning model that predicts the probability that the first transaction of a new user is fraudulent."
   ]
  },
  {
   "cell_type": "markdown",
   "metadata": {
    "heading_collapsed": true
   },
   "source": [
    "### Libraries"
   ]
  },
  {
   "cell_type": "code",
   "execution_count": 449,
   "metadata": {
    "hidden": true
   },
   "outputs": [],
   "source": [
    "import pandas as pd\n",
    "import numpy as np\n",
    "from sklearn.preprocessing import LabelEncoder,OneHotEncoder\n",
    "from sklearn.utils import shuffle\n",
    "from sklearn.metrics import confusion_matrix, classification_report, auc, precision_recall_curve, roc_curve\n",
    "import warnings\n",
    "warnings.filterwarnings('always')\n",
    "import pickle\n",
    "import seaborn as sns\n",
    "from sklearn import svm\n",
    "from sklearn.ensemble import RandomForestClassifier\n",
    "from xgboost import XGBClassifier\n",
    "from sklearn.metrics import roc_auc_score\n",
    "from collections import Counter\n",
    "from imblearn.over_sampling import ADASYN"
   ]
  },
  {
   "cell_type": "markdown",
   "metadata": {
    "heading_collapsed": true
   },
   "source": [
    "### Data Loading and Mapping"
   ]
  },
  {
   "cell_type": "code",
   "execution_count": 1,
   "metadata": {
    "hidden": true
   },
   "outputs": [],
   "source": [
    "df=pd.read_csv(\"fraud.csv\",encoding=\"utf-8\")\n",
    "df1=pd.read_csv(\"IpAddress_to_Country.csv\")"
   ]
  },
  {
   "cell_type": "code",
   "execution_count": 2,
   "metadata": {
    "hidden": true
   },
   "outputs": [
    {
     "data": {
      "text/html": [
       "<div>\n",
       "<style scoped>\n",
       "    .dataframe tbody tr th:only-of-type {\n",
       "        vertical-align: middle;\n",
       "    }\n",
       "\n",
       "    .dataframe tbody tr th {\n",
       "        vertical-align: top;\n",
       "    }\n",
       "\n",
       "    .dataframe thead th {\n",
       "        text-align: right;\n",
       "    }\n",
       "</style>\n",
       "<table border=\"1\" class=\"dataframe\">\n",
       "  <thead>\n",
       "    <tr style=\"text-align: right;\">\n",
       "      <th></th>\n",
       "      <th>Unnamed: 0</th>\n",
       "      <th>user_id</th>\n",
       "      <th>signup_time</th>\n",
       "      <th>purchase_time</th>\n",
       "      <th>purchase_value</th>\n",
       "      <th>device_id</th>\n",
       "      <th>source</th>\n",
       "      <th>browser</th>\n",
       "      <th>sex</th>\n",
       "      <th>age</th>\n",
       "      <th>ip_address</th>\n",
       "      <th>class</th>\n",
       "    </tr>\n",
       "  </thead>\n",
       "  <tbody>\n",
       "    <tr>\n",
       "      <th>0</th>\n",
       "      <td>149671</td>\n",
       "      <td>285108</td>\n",
       "      <td>2015-07-15 04:36:55</td>\n",
       "      <td>2015-09-10 14:17:56</td>\n",
       "      <td>31</td>\n",
       "      <td>HZAKVUFTDOSFD</td>\n",
       "      <td>Direct</td>\n",
       "      <td>Chrome</td>\n",
       "      <td>M</td>\n",
       "      <td>49</td>\n",
       "      <td>2.818400e+09</td>\n",
       "      <td>0</td>\n",
       "    </tr>\n",
       "    <tr>\n",
       "      <th>1</th>\n",
       "      <td>15611</td>\n",
       "      <td>131009</td>\n",
       "      <td>2015-01-24 12:29:58</td>\n",
       "      <td>2015-04-13 04:53:55</td>\n",
       "      <td>31</td>\n",
       "      <td>XGQAJSOUJIZCC</td>\n",
       "      <td>SEO</td>\n",
       "      <td>IE</td>\n",
       "      <td>F</td>\n",
       "      <td>21</td>\n",
       "      <td>3.251268e+09</td>\n",
       "      <td>0</td>\n",
       "    </tr>\n",
       "    <tr>\n",
       "      <th>2</th>\n",
       "      <td>73178</td>\n",
       "      <td>328855</td>\n",
       "      <td>2015-03-11 00:54:12</td>\n",
       "      <td>2015-04-05 12:23:49</td>\n",
       "      <td>16</td>\n",
       "      <td>VCCTAYDCWKZIY</td>\n",
       "      <td>Direct</td>\n",
       "      <td>IE</td>\n",
       "      <td>M</td>\n",
       "      <td>26</td>\n",
       "      <td>2.727760e+09</td>\n",
       "      <td>0</td>\n",
       "    </tr>\n",
       "    <tr>\n",
       "      <th>3</th>\n",
       "      <td>84546</td>\n",
       "      <td>229053</td>\n",
       "      <td>2015-01-07 13:19:17</td>\n",
       "      <td>2015-01-09 10:12:06</td>\n",
       "      <td>29</td>\n",
       "      <td>MFFIHYNXCJLEY</td>\n",
       "      <td>SEO</td>\n",
       "      <td>Chrome</td>\n",
       "      <td>M</td>\n",
       "      <td>34</td>\n",
       "      <td>2.083420e+09</td>\n",
       "      <td>0</td>\n",
       "    </tr>\n",
       "    <tr>\n",
       "      <th>4</th>\n",
       "      <td>35978</td>\n",
       "      <td>108439</td>\n",
       "      <td>2015-02-08 21:11:04</td>\n",
       "      <td>2015-04-09 14:26:10</td>\n",
       "      <td>26</td>\n",
       "      <td>WMSXWGVPNIFBM</td>\n",
       "      <td>Ads</td>\n",
       "      <td>FireFox</td>\n",
       "      <td>M</td>\n",
       "      <td>33</td>\n",
       "      <td>3.207913e+09</td>\n",
       "      <td>0</td>\n",
       "    </tr>\n",
       "  </tbody>\n",
       "</table>\n",
       "</div>"
      ],
      "text/plain": [
       "   Unnamed: 0  user_id          signup_time        purchase_time  \\\n",
       "0      149671   285108  2015-07-15 04:36:55  2015-09-10 14:17:56   \n",
       "1       15611   131009  2015-01-24 12:29:58  2015-04-13 04:53:55   \n",
       "2       73178   328855  2015-03-11 00:54:12  2015-04-05 12:23:49   \n",
       "3       84546   229053  2015-01-07 13:19:17  2015-01-09 10:12:06   \n",
       "4       35978   108439  2015-02-08 21:11:04  2015-04-09 14:26:10   \n",
       "\n",
       "   purchase_value      device_id  source  browser sex  age    ip_address  \\\n",
       "0              31  HZAKVUFTDOSFD  Direct   Chrome   M   49  2.818400e+09   \n",
       "1              31  XGQAJSOUJIZCC     SEO       IE   F   21  3.251268e+09   \n",
       "2              16  VCCTAYDCWKZIY  Direct       IE   M   26  2.727760e+09   \n",
       "3              29  MFFIHYNXCJLEY     SEO   Chrome   M   34  2.083420e+09   \n",
       "4              26  WMSXWGVPNIFBM     Ads  FireFox   M   33  3.207913e+09   \n",
       "\n",
       "   class  \n",
       "0      0  \n",
       "1      0  \n",
       "2      0  \n",
       "3      0  \n",
       "4      0  "
      ]
     },
     "execution_count": 2,
     "metadata": {},
     "output_type": "execute_result"
    }
   ],
   "source": [
    "df.head()"
   ]
  },
  {
   "cell_type": "code",
   "execution_count": 3,
   "metadata": {
    "hidden": true
   },
   "outputs": [
    {
     "data": {
      "text/html": [
       "<div>\n",
       "<style scoped>\n",
       "    .dataframe tbody tr th:only-of-type {\n",
       "        vertical-align: middle;\n",
       "    }\n",
       "\n",
       "    .dataframe tbody tr th {\n",
       "        vertical-align: top;\n",
       "    }\n",
       "\n",
       "    .dataframe thead th {\n",
       "        text-align: right;\n",
       "    }\n",
       "</style>\n",
       "<table border=\"1\" class=\"dataframe\">\n",
       "  <thead>\n",
       "    <tr style=\"text-align: right;\">\n",
       "      <th></th>\n",
       "      <th>lower_bound_ip_address</th>\n",
       "      <th>upper_bound_ip_address</th>\n",
       "      <th>country</th>\n",
       "    </tr>\n",
       "  </thead>\n",
       "  <tbody>\n",
       "    <tr>\n",
       "      <th>0</th>\n",
       "      <td>16777216.0</td>\n",
       "      <td>16777471</td>\n",
       "      <td>Australia</td>\n",
       "    </tr>\n",
       "    <tr>\n",
       "      <th>1</th>\n",
       "      <td>16777472.0</td>\n",
       "      <td>16777727</td>\n",
       "      <td>China</td>\n",
       "    </tr>\n",
       "    <tr>\n",
       "      <th>2</th>\n",
       "      <td>16777728.0</td>\n",
       "      <td>16778239</td>\n",
       "      <td>China</td>\n",
       "    </tr>\n",
       "    <tr>\n",
       "      <th>3</th>\n",
       "      <td>16778240.0</td>\n",
       "      <td>16779263</td>\n",
       "      <td>Australia</td>\n",
       "    </tr>\n",
       "    <tr>\n",
       "      <th>4</th>\n",
       "      <td>16779264.0</td>\n",
       "      <td>16781311</td>\n",
       "      <td>China</td>\n",
       "    </tr>\n",
       "  </tbody>\n",
       "</table>\n",
       "</div>"
      ],
      "text/plain": [
       "   lower_bound_ip_address  upper_bound_ip_address    country\n",
       "0              16777216.0                16777471  Australia\n",
       "1              16777472.0                16777727      China\n",
       "2              16777728.0                16778239      China\n",
       "3              16778240.0                16779263  Australia\n",
       "4              16779264.0                16781311      China"
      ]
     },
     "execution_count": 3,
     "metadata": {},
     "output_type": "execute_result"
    }
   ],
   "source": [
    "df1.head()"
   ]
  },
  {
   "cell_type": "markdown",
   "metadata": {
    "hidden": true
   },
   "source": [
    "<h4>Target Class Distribution</h4>"
   ]
  },
  {
   "cell_type": "code",
   "execution_count": 7,
   "metadata": {
    "hidden": true
   },
   "outputs": [
    {
     "data": {
      "text/plain": [
       "Text(0,0.5,'Number of Observations')"
      ]
     },
     "execution_count": 7,
     "metadata": {},
     "output_type": "execute_result"
    },
    {
     "data": {
      "image/png": "[encoded data removed]",
      "text/plain": [
       "<Figure size 432x288 with 1 Axes>"
      ]
     },
     "metadata": {
      "needs_background": "light"
     },
     "output_type": "display_data"
    }
   ],
   "source": [
    "import matplotlib.pyplot as plt\n",
    "%matplotlib inline\n",
    "count_classes = pd.value_counts(df['class'], sort = True)\n",
    "count_classes.plot(kind = 'bar', rot=0)\n",
    "plt.xticks(range(2), ['Fraud','Normal'])\n",
    "plt.title(\"Frequency by observation number\")\n",
    "plt.xlabel(\"Class\")\n",
    "plt.ylabel(\"Number of Observations\")"
   ]
  },
  {
   "cell_type": "markdown",
   "metadata": {
    "hidden": true
   },
   "source": [
    "The data seems to be highly imbalanced. This will be problem while training the models."
   ]
  },
  {
   "cell_type": "code",
   "execution_count": 8,
   "metadata": {
    "hidden": true
   },
   "outputs": [],
   "source": [
    "s = pd.IntervalIndex.from_arrays(df1.lower_bound_ip_address, df1.upper_bound_ip_address, 'both')"
   ]
  },
  {
   "cell_type": "code",
   "execution_count": 9,
   "metadata": {
    "hidden": true
   },
   "outputs": [
    {
     "data": {
      "text/html": [
       "<div>\n",
       "<style scoped>\n",
       "    .dataframe tbody tr th:only-of-type {\n",
       "        vertical-align: middle;\n",
       "    }\n",
       "\n",
       "    .dataframe tbody tr th {\n",
       "        vertical-align: top;\n",
       "    }\n",
       "\n",
       "    .dataframe thead th {\n",
       "        text-align: right;\n",
       "    }\n",
       "</style>\n",
       "<table border=\"1\" class=\"dataframe\">\n",
       "  <thead>\n",
       "    <tr style=\"text-align: right;\">\n",
       "      <th></th>\n",
       "      <th>Unnamed: 0</th>\n",
       "      <th>user_id</th>\n",
       "      <th>signup_time</th>\n",
       "      <th>purchase_time</th>\n",
       "      <th>purchase_value</th>\n",
       "      <th>device_id</th>\n",
       "      <th>source</th>\n",
       "      <th>browser</th>\n",
       "      <th>sex</th>\n",
       "      <th>age</th>\n",
       "      <th>ip_address</th>\n",
       "      <th>class</th>\n",
       "      <th>country</th>\n",
       "    </tr>\n",
       "  </thead>\n",
       "  <tbody>\n",
       "    <tr>\n",
       "      <th>0</th>\n",
       "      <td>149671</td>\n",
       "      <td>285108</td>\n",
       "      <td>2015-07-15 04:36:55</td>\n",
       "      <td>2015-09-10 14:17:56</td>\n",
       "      <td>31</td>\n",
       "      <td>HZAKVUFTDOSFD</td>\n",
       "      <td>Direct</td>\n",
       "      <td>Chrome</td>\n",
       "      <td>M</td>\n",
       "      <td>49</td>\n",
       "      <td>2.818400e+09</td>\n",
       "      <td>0</td>\n",
       "      <td>United States</td>\n",
       "    </tr>\n",
       "    <tr>\n",
       "      <th>1</th>\n",
       "      <td>15611</td>\n",
       "      <td>131009</td>\n",
       "      <td>2015-01-24 12:29:58</td>\n",
       "      <td>2015-04-13 04:53:55</td>\n",
       "      <td>31</td>\n",
       "      <td>XGQAJSOUJIZCC</td>\n",
       "      <td>SEO</td>\n",
       "      <td>IE</td>\n",
       "      <td>F</td>\n",
       "      <td>21</td>\n",
       "      <td>3.251268e+09</td>\n",
       "      <td>0</td>\n",
       "      <td>United Kingdom</td>\n",
       "    </tr>\n",
       "    <tr>\n",
       "      <th>2</th>\n",
       "      <td>73178</td>\n",
       "      <td>328855</td>\n",
       "      <td>2015-03-11 00:54:12</td>\n",
       "      <td>2015-04-05 12:23:49</td>\n",
       "      <td>16</td>\n",
       "      <td>VCCTAYDCWKZIY</td>\n",
       "      <td>Direct</td>\n",
       "      <td>IE</td>\n",
       "      <td>M</td>\n",
       "      <td>26</td>\n",
       "      <td>2.727760e+09</td>\n",
       "      <td>0</td>\n",
       "      <td>United States</td>\n",
       "    </tr>\n",
       "    <tr>\n",
       "      <th>3</th>\n",
       "      <td>84546</td>\n",
       "      <td>229053</td>\n",
       "      <td>2015-01-07 13:19:17</td>\n",
       "      <td>2015-01-09 10:12:06</td>\n",
       "      <td>29</td>\n",
       "      <td>MFFIHYNXCJLEY</td>\n",
       "      <td>SEO</td>\n",
       "      <td>Chrome</td>\n",
       "      <td>M</td>\n",
       "      <td>34</td>\n",
       "      <td>2.083420e+09</td>\n",
       "      <td>0</td>\n",
       "      <td>Korea Republic of</td>\n",
       "    </tr>\n",
       "    <tr>\n",
       "      <th>4</th>\n",
       "      <td>35978</td>\n",
       "      <td>108439</td>\n",
       "      <td>2015-02-08 21:11:04</td>\n",
       "      <td>2015-04-09 14:26:10</td>\n",
       "      <td>26</td>\n",
       "      <td>WMSXWGVPNIFBM</td>\n",
       "      <td>Ads</td>\n",
       "      <td>FireFox</td>\n",
       "      <td>M</td>\n",
       "      <td>33</td>\n",
       "      <td>3.207913e+09</td>\n",
       "      <td>0</td>\n",
       "      <td>Brazil</td>\n",
       "    </tr>\n",
       "  </tbody>\n",
       "</table>\n",
       "</div>"
      ],
      "text/plain": [
       "   Unnamed: 0  user_id          signup_time        purchase_time  \\\n",
       "0      149671   285108  2015-07-15 04:36:55  2015-09-10 14:17:56   \n",
       "1       15611   131009  2015-01-24 12:29:58  2015-04-13 04:53:55   \n",
       "2       73178   328855  2015-03-11 00:54:12  2015-04-05 12:23:49   \n",
       "3       84546   229053  2015-01-07 13:19:17  2015-01-09 10:12:06   \n",
       "4       35978   108439  2015-02-08 21:11:04  2015-04-09 14:26:10   \n",
       "\n",
       "   purchase_value      device_id  source  browser sex  age    ip_address  \\\n",
       "0              31  HZAKVUFTDOSFD  Direct   Chrome   M   49  2.818400e+09   \n",
       "1              31  XGQAJSOUJIZCC     SEO       IE   F   21  3.251268e+09   \n",
       "2              16  VCCTAYDCWKZIY  Direct       IE   M   26  2.727760e+09   \n",
       "3              29  MFFIHYNXCJLEY     SEO   Chrome   M   34  2.083420e+09   \n",
       "4              26  WMSXWGVPNIFBM     Ads  FireFox   M   33  3.207913e+09   \n",
       "\n",
       "   class            country  \n",
       "0      0      United States  \n",
       "1      0     United Kingdom  \n",
       "2      0      United States  \n",
       "3      0  Korea Republic of  \n",
       "4      0             Brazil  "
      ]
     },
     "execution_count": 9,
     "metadata": {},
     "output_type": "execute_result"
    }
   ],
   "source": [
    "df_test=df[:5]\n",
    "df_test.assign(country=df1.set_index(s).loc[df_test.ip_address].country.values)"
   ]
  },
  {
   "cell_type": "code",
   "execution_count": 10,
   "metadata": {
    "hidden": true
   },
   "outputs": [
    {
     "data": {
      "text/plain": [
       "Unnamed: 0         int64\n",
       "user_id            int64\n",
       "signup_time       object\n",
       "purchase_time     object\n",
       "purchase_value     int64\n",
       "device_id         object\n",
       "source            object\n",
       "browser           object\n",
       "sex               object\n",
       "age                int64\n",
       "ip_address         int64\n",
       "class              int64\n",
       "dtype: object"
      ]
     },
     "execution_count": 10,
     "metadata": {},
     "output_type": "execute_result"
    }
   ],
   "source": [
    "df.ip_address=df.ip_address.astype(int)\n",
    "df.dtypes"
   ]
  },
  {
   "cell_type": "code",
   "execution_count": 11,
   "metadata": {
    "hidden": true
   },
   "outputs": [
    {
     "data": {
      "text/plain": [
       "lower_bound_ip_address     int64\n",
       "upper_bound_ip_address     int64\n",
       "country                   object\n",
       "dtype: object"
      ]
     },
     "execution_count": 11,
     "metadata": {},
     "output_type": "execute_result"
    }
   ],
   "source": [
    "df1.lower_bound_ip_address=df1.lower_bound_ip_address.astype(int)\n",
    "df1.dtypes"
   ]
  },
  {
   "cell_type": "code",
   "execution_count": 12,
   "metadata": {
    "hidden": true
   },
   "outputs": [
    {
     "data": {
      "text/plain": [
       "lower_bound_ip_address    0\n",
       "upper_bound_ip_address    0\n",
       "country                   0\n",
       "dtype: int64"
      ]
     },
     "execution_count": 12,
     "metadata": {},
     "output_type": "execute_result"
    }
   ],
   "source": [
    "df1.isna().sum()"
   ]
  },
  {
   "cell_type": "code",
   "execution_count": 23,
   "metadata": {
    "hidden": true
   },
   "outputs": [],
   "source": [
    "df1=df1.set_index(s)"
   ]
  },
  {
   "cell_type": "code",
   "execution_count": 14,
   "metadata": {
    "hidden": true
   },
   "outputs": [
    {
     "data": {
      "text/plain": [
       "3758096383"
      ]
     },
     "execution_count": 14,
     "metadata": {},
     "output_type": "execute_result"
    }
   ],
   "source": [
    "df1.upper_bound_ip_address.max()"
   ]
  },
  {
   "cell_type": "code",
   "execution_count": 15,
   "metadata": {
    "hidden": true
   },
   "outputs": [
    {
     "data": {
      "text/plain": [
       "16777216"
      ]
     },
     "execution_count": 15,
     "metadata": {},
     "output_type": "execute_result"
    }
   ],
   "source": [
    "df1.lower_bound_ip_address.min()"
   ]
  },
  {
   "cell_type": "markdown",
   "metadata": {
    "hidden": true
   },
   "source": [
    "<h4>Mapping IP ranges for each country to IP Address(Partial Dataset)</h4>"
   ]
  },
  {
   "cell_type": "code",
   "execution_count": 30,
   "metadata": {
    "hidden": true
   },
   "outputs": [
    {
     "name": "stderr",
     "output_type": "stream",
     "text": [
      "/opt/anaconda3/lib/python3.7/site-packages/ipykernel_launcher.py:2: SettingWithCopyWarning: \n",
      "A value is trying to be set on a copy of a slice from a DataFrame.\n",
      "Try using .loc[row_indexer,col_indexer] = value instead\n",
      "\n",
      "See the caveats in the documentation: http://pandas.pydata.org/pandas-docs/stable/indexing.html#indexing-view-versus-copy\n",
      "  \n",
      "/opt/anaconda3/lib/python3.7/site-packages/ipykernel_launcher.py:18: SettingWithCopyWarning: \n",
      "A value is trying to be set on a copy of a slice from a DataFrame\n",
      "\n",
      "See the caveats in the documentation: http://pandas.pydata.org/pandas-docs/stable/indexing.html#indexing-view-versus-copy\n"
     ]
    }
   ],
   "source": [
    "df_test=df[1:15]\n",
    "df_test[\"country\"] = \"\"\n",
    "def check_ip(vi):\n",
    "    a=[]\n",
    "    a=s.map(lambda x: vi in x)\n",
    "    i = iter(a)\n",
    "    return all(any(i) for j in range(1)) and not any(i)\n",
    "\n",
    "\n",
    "    \n",
    "for i in range(0,14):\n",
    "    ip_t=df_test[\"ip_address\"].iloc[i]\n",
    "    #print(ip_t)\n",
    "    bolv=check_ip(ip_t)\n",
    "    #print(bolv)\n",
    "    if bolv == True:\n",
    "        #print(df1.loc[ip_t].country)\n",
    "        df_test.country.iloc[i]=df1.loc[ip_t].country\n",
    "        #print(df_test.country[i])\n",
    "    else:\n",
    "        continue\n",
    "    "
   ]
  },
  {
   "cell_type": "code",
   "execution_count": 31,
   "metadata": {
    "hidden": true
   },
   "outputs": [
    {
     "data": {
      "text/html": [
       "<div>\n",
       "<style scoped>\n",
       "    .dataframe tbody tr th:only-of-type {\n",
       "        vertical-align: middle;\n",
       "    }\n",
       "\n",
       "    .dataframe tbody tr th {\n",
       "        vertical-align: top;\n",
       "    }\n",
       "\n",
       "    .dataframe thead th {\n",
       "        text-align: right;\n",
       "    }\n",
       "</style>\n",
       "<table border=\"1\" class=\"dataframe\">\n",
       "  <thead>\n",
       "    <tr style=\"text-align: right;\">\n",
       "      <th></th>\n",
       "      <th>Unnamed: 0</th>\n",
       "      <th>user_id</th>\n",
       "      <th>signup_time</th>\n",
       "      <th>purchase_time</th>\n",
       "      <th>purchase_value</th>\n",
       "      <th>device_id</th>\n",
       "      <th>source</th>\n",
       "      <th>browser</th>\n",
       "      <th>sex</th>\n",
       "      <th>age</th>\n",
       "      <th>ip_address</th>\n",
       "      <th>class</th>\n",
       "      <th>country</th>\n",
       "    </tr>\n",
       "  </thead>\n",
       "  <tbody>\n",
       "    <tr>\n",
       "      <th>1</th>\n",
       "      <td>15611</td>\n",
       "      <td>131009</td>\n",
       "      <td>2015-01-24 12:29:58</td>\n",
       "      <td>2015-04-13 04:53:55</td>\n",
       "      <td>31</td>\n",
       "      <td>XGQAJSOUJIZCC</td>\n",
       "      <td>SEO</td>\n",
       "      <td>IE</td>\n",
       "      <td>F</td>\n",
       "      <td>21</td>\n",
       "      <td>3251268287</td>\n",
       "      <td>0</td>\n",
       "      <td>United Kingdom</td>\n",
       "    </tr>\n",
       "    <tr>\n",
       "      <th>2</th>\n",
       "      <td>73178</td>\n",
       "      <td>328855</td>\n",
       "      <td>2015-03-11 00:54:12</td>\n",
       "      <td>2015-04-05 12:23:49</td>\n",
       "      <td>16</td>\n",
       "      <td>VCCTAYDCWKZIY</td>\n",
       "      <td>Direct</td>\n",
       "      <td>IE</td>\n",
       "      <td>M</td>\n",
       "      <td>26</td>\n",
       "      <td>2727760440</td>\n",
       "      <td>0</td>\n",
       "      <td>United States</td>\n",
       "    </tr>\n",
       "    <tr>\n",
       "      <th>3</th>\n",
       "      <td>84546</td>\n",
       "      <td>229053</td>\n",
       "      <td>2015-01-07 13:19:17</td>\n",
       "      <td>2015-01-09 10:12:06</td>\n",
       "      <td>29</td>\n",
       "      <td>MFFIHYNXCJLEY</td>\n",
       "      <td>SEO</td>\n",
       "      <td>Chrome</td>\n",
       "      <td>M</td>\n",
       "      <td>34</td>\n",
       "      <td>2083419525</td>\n",
       "      <td>0</td>\n",
       "      <td>Korea Republic of</td>\n",
       "    </tr>\n",
       "    <tr>\n",
       "      <th>4</th>\n",
       "      <td>35978</td>\n",
       "      <td>108439</td>\n",
       "      <td>2015-02-08 21:11:04</td>\n",
       "      <td>2015-04-09 14:26:10</td>\n",
       "      <td>26</td>\n",
       "      <td>WMSXWGVPNIFBM</td>\n",
       "      <td>Ads</td>\n",
       "      <td>FireFox</td>\n",
       "      <td>M</td>\n",
       "      <td>33</td>\n",
       "      <td>3207912663</td>\n",
       "      <td>0</td>\n",
       "      <td>Brazil</td>\n",
       "    </tr>\n",
       "    <tr>\n",
       "      <th>5</th>\n",
       "      <td>103053</td>\n",
       "      <td>178528</td>\n",
       "      <td>2015-04-20 20:19:35</td>\n",
       "      <td>2015-08-03 20:17:47</td>\n",
       "      <td>35</td>\n",
       "      <td>HUFZWLDYJPRCK</td>\n",
       "      <td>SEO</td>\n",
       "      <td>Chrome</td>\n",
       "      <td>F</td>\n",
       "      <td>30</td>\n",
       "      <td>2550203819</td>\n",
       "      <td>0</td>\n",
       "      <td>United States</td>\n",
       "    </tr>\n",
       "    <tr>\n",
       "      <th>6</th>\n",
       "      <td>71773</td>\n",
       "      <td>323775</td>\n",
       "      <td>2015-06-30 07:34:31</td>\n",
       "      <td>2015-09-05 16:59:33</td>\n",
       "      <td>28</td>\n",
       "      <td>DLOOEWQCUQRKZ</td>\n",
       "      <td>SEO</td>\n",
       "      <td>Safari</td>\n",
       "      <td>M</td>\n",
       "      <td>47</td>\n",
       "      <td>4075993923</td>\n",
       "      <td>0</td>\n",
       "      <td></td>\n",
       "    </tr>\n",
       "    <tr>\n",
       "      <th>7</th>\n",
       "      <td>143439</td>\n",
       "      <td>69189</td>\n",
       "      <td>2015-03-10 01:53:23</td>\n",
       "      <td>2015-06-30 17:37:02</td>\n",
       "      <td>21</td>\n",
       "      <td>NRJPZDBHXNQJG</td>\n",
       "      <td>SEO</td>\n",
       "      <td>FireFox</td>\n",
       "      <td>F</td>\n",
       "      <td>47</td>\n",
       "      <td>2753449046</td>\n",
       "      <td>0</td>\n",
       "      <td>Germany</td>\n",
       "    </tr>\n",
       "    <tr>\n",
       "      <th>8</th>\n",
       "      <td>101025</td>\n",
       "      <td>70424</td>\n",
       "      <td>2015-07-05 16:54:42</td>\n",
       "      <td>2015-08-25 16:08:56</td>\n",
       "      <td>43</td>\n",
       "      <td>YDLNPVEWMTMMZ</td>\n",
       "      <td>Direct</td>\n",
       "      <td>IE</td>\n",
       "      <td>M</td>\n",
       "      <td>40</td>\n",
       "      <td>3310808206</td>\n",
       "      <td>0</td>\n",
       "      <td>South Africa</td>\n",
       "    </tr>\n",
       "    <tr>\n",
       "      <th>9</th>\n",
       "      <td>63154</td>\n",
       "      <td>328496</td>\n",
       "      <td>2015-07-23 12:48:07</td>\n",
       "      <td>2015-10-20 13:01:20</td>\n",
       "      <td>40</td>\n",
       "      <td>HTOCRWCBYIQJI</td>\n",
       "      <td>Ads</td>\n",
       "      <td>Safari</td>\n",
       "      <td>M</td>\n",
       "      <td>33</td>\n",
       "      <td>2185371169</td>\n",
       "      <td>0</td>\n",
       "      <td>France</td>\n",
       "    </tr>\n",
       "    <tr>\n",
       "      <th>10</th>\n",
       "      <td>14677</td>\n",
       "      <td>182104</td>\n",
       "      <td>2015-04-07 07:59:02</td>\n",
       "      <td>2015-06-13 16:49:45</td>\n",
       "      <td>69</td>\n",
       "      <td>SPVQVNLIPZJWM</td>\n",
       "      <td>Ads</td>\n",
       "      <td>Chrome</td>\n",
       "      <td>M</td>\n",
       "      <td>35</td>\n",
       "      <td>2621939114</td>\n",
       "      <td>0</td>\n",
       "      <td>United States</td>\n",
       "    </tr>\n",
       "    <tr>\n",
       "      <th>11</th>\n",
       "      <td>45469</td>\n",
       "      <td>97677</td>\n",
       "      <td>2015-05-11 02:28:09</td>\n",
       "      <td>2015-07-20 21:37:50</td>\n",
       "      <td>79</td>\n",
       "      <td>GNVLAANUJMKFC</td>\n",
       "      <td>SEO</td>\n",
       "      <td>Chrome</td>\n",
       "      <td>F</td>\n",
       "      <td>27</td>\n",
       "      <td>2821271543</td>\n",
       "      <td>0</td>\n",
       "      <td>United States</td>\n",
       "    </tr>\n",
       "    <tr>\n",
       "      <th>12</th>\n",
       "      <td>68779</td>\n",
       "      <td>264899</td>\n",
       "      <td>2015-01-12 11:43:37</td>\n",
       "      <td>2015-01-12 11:43:38</td>\n",
       "      <td>57</td>\n",
       "      <td>RGNKMWSCHLGFL</td>\n",
       "      <td>Direct</td>\n",
       "      <td>Chrome</td>\n",
       "      <td>M</td>\n",
       "      <td>32</td>\n",
       "      <td>1288372424</td>\n",
       "      <td>1</td>\n",
       "      <td>United States</td>\n",
       "    </tr>\n",
       "    <tr>\n",
       "      <th>13</th>\n",
       "      <td>149465</td>\n",
       "      <td>355662</td>\n",
       "      <td>2015-04-21 02:11:08</td>\n",
       "      <td>2015-05-02 12:34:14</td>\n",
       "      <td>19</td>\n",
       "      <td>WCHFHKFWCCHKP</td>\n",
       "      <td>SEO</td>\n",
       "      <td>IE</td>\n",
       "      <td>M</td>\n",
       "      <td>30</td>\n",
       "      <td>1997833281</td>\n",
       "      <td>0</td>\n",
       "      <td>China</td>\n",
       "    </tr>\n",
       "    <tr>\n",
       "      <th>14</th>\n",
       "      <td>47102</td>\n",
       "      <td>56064</td>\n",
       "      <td>2015-03-11 00:17:45</td>\n",
       "      <td>2015-05-10 04:26:00</td>\n",
       "      <td>74</td>\n",
       "      <td>RMSLTNGBWEQNX</td>\n",
       "      <td>Ads</td>\n",
       "      <td>FireFox</td>\n",
       "      <td>F</td>\n",
       "      <td>41</td>\n",
       "      <td>3171209986</td>\n",
       "      <td>0</td>\n",
       "      <td>Brazil</td>\n",
       "    </tr>\n",
       "  </tbody>\n",
       "</table>\n",
       "</div>"
      ],
      "text/plain": [
       "    Unnamed: 0  user_id          signup_time        purchase_time  \\\n",
       "1        15611   131009  2015-01-24 12:29:58  2015-04-13 04:53:55   \n",
       "2        73178   328855  2015-03-11 00:54:12  2015-04-05 12:23:49   \n",
       "3        84546   229053  2015-01-07 13:19:17  2015-01-09 10:12:06   \n",
       "4        35978   108439  2015-02-08 21:11:04  2015-04-09 14:26:10   \n",
       "5       103053   178528  2015-04-20 20:19:35  2015-08-03 20:17:47   \n",
       "6        71773   323775  2015-06-30 07:34:31  2015-09-05 16:59:33   \n",
       "7       143439    69189  2015-03-10 01:53:23  2015-06-30 17:37:02   \n",
       "8       101025    70424  2015-07-05 16:54:42  2015-08-25 16:08:56   \n",
       "9        63154   328496  2015-07-23 12:48:07  2015-10-20 13:01:20   \n",
       "10       14677   182104  2015-04-07 07:59:02  2015-06-13 16:49:45   \n",
       "11       45469    97677  2015-05-11 02:28:09  2015-07-20 21:37:50   \n",
       "12       68779   264899  2015-01-12 11:43:37  2015-01-12 11:43:38   \n",
       "13      149465   355662  2015-04-21 02:11:08  2015-05-02 12:34:14   \n",
       "14       47102    56064  2015-03-11 00:17:45  2015-05-10 04:26:00   \n",
       "\n",
       "    purchase_value      device_id  source  browser sex  age  ip_address  \\\n",
       "1               31  XGQAJSOUJIZCC     SEO       IE   F   21  3251268287   \n",
       "2               16  VCCTAYDCWKZIY  Direct       IE   M   26  2727760440   \n",
       "3               29  MFFIHYNXCJLEY     SEO   Chrome   M   34  2083419525   \n",
       "4               26  WMSXWGVPNIFBM     Ads  FireFox   M   33  3207912663   \n",
       "5               35  HUFZWLDYJPRCK     SEO   Chrome   F   30  2550203819   \n",
       "6               28  DLOOEWQCUQRKZ     SEO   Safari   M   47  4075993923   \n",
       "7               21  NRJPZDBHXNQJG     SEO  FireFox   F   47  2753449046   \n",
       "8               43  YDLNPVEWMTMMZ  Direct       IE   M   40  3310808206   \n",
       "9               40  HTOCRWCBYIQJI     Ads   Safari   M   33  2185371169   \n",
       "10              69  SPVQVNLIPZJWM     Ads   Chrome   M   35  2621939114   \n",
       "11              79  GNVLAANUJMKFC     SEO   Chrome   F   27  2821271543   \n",
       "12              57  RGNKMWSCHLGFL  Direct   Chrome   M   32  1288372424   \n",
       "13              19  WCHFHKFWCCHKP     SEO       IE   M   30  1997833281   \n",
       "14              74  RMSLTNGBWEQNX     Ads  FireFox   F   41  3171209986   \n",
       "\n",
       "    class            country  \n",
       "1       0     United Kingdom  \n",
       "2       0      United States  \n",
       "3       0  Korea Republic of  \n",
       "4       0             Brazil  \n",
       "5       0      United States  \n",
       "6       0                     \n",
       "7       0            Germany  \n",
       "8       0       South Africa  \n",
       "9       0             France  \n",
       "10      0      United States  \n",
       "11      0      United States  \n",
       "12      1      United States  \n",
       "13      0              China  \n",
       "14      0             Brazil  "
      ]
     },
     "execution_count": 31,
     "metadata": {},
     "output_type": "execute_result"
    }
   ],
   "source": [
    "df_test.head(15)"
   ]
  },
  {
   "cell_type": "markdown",
   "metadata": {
    "hidden": true
   },
   "source": [
    "<h4>Mapping IP ranges for each country to IP Address(Entire Dataset)</h4>"
   ]
  },
  {
   "cell_type": "code",
   "execution_count": 33,
   "metadata": {
    "hidden": true
   },
   "outputs": [],
   "source": [
    "%timeit\n",
    "df['country']=\"\"\n",
    "def check_ip(vi):\n",
    "    a=[]\n",
    "    a=s.map(lambda x: vi in x)\n",
    "    i = iter(a)\n",
    "    return all(any(i) for j in range(1)) and not any(i)\n",
    "\n",
    "\n",
    "    \n",
    "for i in range(1,df.shape[0]):\n",
    "    ip_t=df[\"ip_address\"].iloc[i]\n",
    "    #print(ip_t)\n",
    "    bolv=check_ip(ip_t)\n",
    "    if bolv == True:\n",
    "        df.country.iloc[i]=df1.loc[ip_t].country\n",
    "        #print(df_test.country[i])\n",
    "    else:\n",
    "        continue\n",
    "    "
   ]
  },
  {
   "cell_type": "code",
   "execution_count": 35,
   "metadata": {
    "hidden": true
   },
   "outputs": [
    {
     "data": {
      "text/html": [
       "<div>\n",
       "<style scoped>\n",
       "    .dataframe tbody tr th:only-of-type {\n",
       "        vertical-align: middle;\n",
       "    }\n",
       "\n",
       "    .dataframe tbody tr th {\n",
       "        vertical-align: top;\n",
       "    }\n",
       "\n",
       "    .dataframe thead th {\n",
       "        text-align: right;\n",
       "    }\n",
       "</style>\n",
       "<table border=\"1\" class=\"dataframe\">\n",
       "  <thead>\n",
       "    <tr style=\"text-align: right;\">\n",
       "      <th></th>\n",
       "      <th>Unnamed: 0</th>\n",
       "      <th>user_id</th>\n",
       "      <th>signup_time</th>\n",
       "      <th>purchase_time</th>\n",
       "      <th>purchase_value</th>\n",
       "      <th>device_id</th>\n",
       "      <th>source</th>\n",
       "      <th>browser</th>\n",
       "      <th>sex</th>\n",
       "      <th>age</th>\n",
       "      <th>ip_address</th>\n",
       "      <th>class</th>\n",
       "      <th>country</th>\n",
       "    </tr>\n",
       "  </thead>\n",
       "  <tbody>\n",
       "    <tr>\n",
       "      <th>119950</th>\n",
       "      <td>37361</td>\n",
       "      <td>213844</td>\n",
       "      <td>2015-04-01 01:10:18</td>\n",
       "      <td>2015-05-10 08:04:14</td>\n",
       "      <td>45</td>\n",
       "      <td>KCPPDGQAPRIMC</td>\n",
       "      <td>Ads</td>\n",
       "      <td>IE</td>\n",
       "      <td>F</td>\n",
       "      <td>39</td>\n",
       "      <td>409999957</td>\n",
       "      <td>0</td>\n",
       "      <td>United States</td>\n",
       "    </tr>\n",
       "    <tr>\n",
       "      <th>119951</th>\n",
       "      <td>77475</td>\n",
       "      <td>100771</td>\n",
       "      <td>2015-03-22 16:57:13</td>\n",
       "      <td>2015-04-04 20:16:04</td>\n",
       "      <td>41</td>\n",
       "      <td>KRJEGKMJSDPUN</td>\n",
       "      <td>Ads</td>\n",
       "      <td>Chrome</td>\n",
       "      <td>F</td>\n",
       "      <td>32</td>\n",
       "      <td>4197714918</td>\n",
       "      <td>0</td>\n",
       "      <td></td>\n",
       "    </tr>\n",
       "    <tr>\n",
       "      <th>119952</th>\n",
       "      <td>95189</td>\n",
       "      <td>6242</td>\n",
       "      <td>2015-05-10 23:48:26</td>\n",
       "      <td>2015-07-19 14:45:11</td>\n",
       "      <td>30</td>\n",
       "      <td>STLYCYBRCEJOF</td>\n",
       "      <td>Direct</td>\n",
       "      <td>FireFox</td>\n",
       "      <td>F</td>\n",
       "      <td>20</td>\n",
       "      <td>3260164427</td>\n",
       "      <td>0</td>\n",
       "      <td>United Kingdom</td>\n",
       "    </tr>\n",
       "    <tr>\n",
       "      <th>119953</th>\n",
       "      <td>142175</td>\n",
       "      <td>270666</td>\n",
       "      <td>2015-03-16 05:58:02</td>\n",
       "      <td>2015-03-24 07:15:38</td>\n",
       "      <td>10</td>\n",
       "      <td>AQYSHSOLZYKMS</td>\n",
       "      <td>Ads</td>\n",
       "      <td>Safari</td>\n",
       "      <td>M</td>\n",
       "      <td>33</td>\n",
       "      <td>674766110</td>\n",
       "      <td>0</td>\n",
       "      <td>United States</td>\n",
       "    </tr>\n",
       "    <tr>\n",
       "      <th>119954</th>\n",
       "      <td>31718</td>\n",
       "      <td>2227</td>\n",
       "      <td>2015-08-10 13:30:16</td>\n",
       "      <td>2015-09-23 03:04:11</td>\n",
       "      <td>56</td>\n",
       "      <td>OBAATUXIXRLVZ</td>\n",
       "      <td>SEO</td>\n",
       "      <td>IE</td>\n",
       "      <td>F</td>\n",
       "      <td>38</td>\n",
       "      <td>2802288933</td>\n",
       "      <td>0</td>\n",
       "      <td>United States</td>\n",
       "    </tr>\n",
       "    <tr>\n",
       "      <th>119955</th>\n",
       "      <td>134659</td>\n",
       "      <td>343231</td>\n",
       "      <td>2015-05-18 02:41:13</td>\n",
       "      <td>2015-08-02 19:28:13</td>\n",
       "      <td>9</td>\n",
       "      <td>VVVHRQPVMDMVN</td>\n",
       "      <td>SEO</td>\n",
       "      <td>Chrome</td>\n",
       "      <td>M</td>\n",
       "      <td>29</td>\n",
       "      <td>476581190</td>\n",
       "      <td>0</td>\n",
       "      <td>United States</td>\n",
       "    </tr>\n",
       "    <tr>\n",
       "      <th>119956</th>\n",
       "      <td>130382</td>\n",
       "      <td>6016</td>\n",
       "      <td>2015-03-21 19:36:22</td>\n",
       "      <td>2015-04-20 19:55:30</td>\n",
       "      <td>18</td>\n",
       "      <td>BZVCBXDMNBNPU</td>\n",
       "      <td>SEO</td>\n",
       "      <td>IE</td>\n",
       "      <td>F</td>\n",
       "      <td>26</td>\n",
       "      <td>916699260</td>\n",
       "      <td>0</td>\n",
       "      <td>United States</td>\n",
       "    </tr>\n",
       "    <tr>\n",
       "      <th>119957</th>\n",
       "      <td>128159</td>\n",
       "      <td>118441</td>\n",
       "      <td>2015-07-03 13:03:07</td>\n",
       "      <td>2015-07-03 16:14:51</td>\n",
       "      <td>35</td>\n",
       "      <td>JXBLAXJRCSMAZ</td>\n",
       "      <td>SEO</td>\n",
       "      <td>Safari</td>\n",
       "      <td>F</td>\n",
       "      <td>42</td>\n",
       "      <td>3726883059</td>\n",
       "      <td>0</td>\n",
       "      <td>China</td>\n",
       "    </tr>\n",
       "    <tr>\n",
       "      <th>119958</th>\n",
       "      <td>112195</td>\n",
       "      <td>330662</td>\n",
       "      <td>2015-04-10 23:13:51</td>\n",
       "      <td>2015-06-23 21:13:13</td>\n",
       "      <td>47</td>\n",
       "      <td>ZTWGIPERJCEQM</td>\n",
       "      <td>Ads</td>\n",
       "      <td>Chrome</td>\n",
       "      <td>F</td>\n",
       "      <td>27</td>\n",
       "      <td>268009595</td>\n",
       "      <td>0</td>\n",
       "      <td>United States</td>\n",
       "    </tr>\n",
       "    <tr>\n",
       "      <th>119959</th>\n",
       "      <td>66325</td>\n",
       "      <td>90327</td>\n",
       "      <td>2015-07-09 09:52:44</td>\n",
       "      <td>2015-09-11 10:33:53</td>\n",
       "      <td>45</td>\n",
       "      <td>SWHYUYTQABAIE</td>\n",
       "      <td>Ads</td>\n",
       "      <td>FireFox</td>\n",
       "      <td>M</td>\n",
       "      <td>32</td>\n",
       "      <td>2951510536</td>\n",
       "      <td>0</td>\n",
       "      <td>Korea Republic of</td>\n",
       "    </tr>\n",
       "    <tr>\n",
       "      <th>119960</th>\n",
       "      <td>112611</td>\n",
       "      <td>173124</td>\n",
       "      <td>2015-01-22 05:04:41</td>\n",
       "      <td>2015-05-14 09:46:51</td>\n",
       "      <td>46</td>\n",
       "      <td>BKLQTHLSBBFNT</td>\n",
       "      <td>SEO</td>\n",
       "      <td>FireFox</td>\n",
       "      <td>M</td>\n",
       "      <td>24</td>\n",
       "      <td>3825334548</td>\n",
       "      <td>0</td>\n",
       "      <td></td>\n",
       "    </tr>\n",
       "    <tr>\n",
       "      <th>119961</th>\n",
       "      <td>60039</td>\n",
       "      <td>49470</td>\n",
       "      <td>2015-03-31 02:33:34</td>\n",
       "      <td>2015-06-26 10:50:00</td>\n",
       "      <td>50</td>\n",
       "      <td>ADWQPCMTZAKJA</td>\n",
       "      <td>Ads</td>\n",
       "      <td>Safari</td>\n",
       "      <td>F</td>\n",
       "      <td>38</td>\n",
       "      <td>3697461292</td>\n",
       "      <td>0</td>\n",
       "      <td>Japan</td>\n",
       "    </tr>\n",
       "    <tr>\n",
       "      <th>119962</th>\n",
       "      <td>78282</td>\n",
       "      <td>381193</td>\n",
       "      <td>2015-01-05 16:26:42</td>\n",
       "      <td>2015-01-05 16:26:43</td>\n",
       "      <td>42</td>\n",
       "      <td>PBQTNXFSTRFQP</td>\n",
       "      <td>Direct</td>\n",
       "      <td>Opera</td>\n",
       "      <td>M</td>\n",
       "      <td>19</td>\n",
       "      <td>2228514657</td>\n",
       "      <td>1</td>\n",
       "      <td>Canada</td>\n",
       "    </tr>\n",
       "    <tr>\n",
       "      <th>119963</th>\n",
       "      <td>33332</td>\n",
       "      <td>15457</td>\n",
       "      <td>2015-01-02 02:31:01</td>\n",
       "      <td>2015-01-02 02:31:02</td>\n",
       "      <td>12</td>\n",
       "      <td>VVIOXFJXTBAVQ</td>\n",
       "      <td>SEO</td>\n",
       "      <td>FireFox</td>\n",
       "      <td>F</td>\n",
       "      <td>47</td>\n",
       "      <td>2057717692</td>\n",
       "      <td>1</td>\n",
       "      <td>India</td>\n",
       "    </tr>\n",
       "    <tr>\n",
       "      <th>119964</th>\n",
       "      <td>108654</td>\n",
       "      <td>180117</td>\n",
       "      <td>2015-05-18 15:54:09</td>\n",
       "      <td>2015-09-03 09:06:43</td>\n",
       "      <td>25</td>\n",
       "      <td>EMQSSTWMCHKGE</td>\n",
       "      <td>Direct</td>\n",
       "      <td>IE</td>\n",
       "      <td>F</td>\n",
       "      <td>51</td>\n",
       "      <td>1393773863</td>\n",
       "      <td>0</td>\n",
       "      <td>Poland</td>\n",
       "    </tr>\n",
       "    <tr>\n",
       "      <th>119965</th>\n",
       "      <td>16416</td>\n",
       "      <td>313154</td>\n",
       "      <td>2015-02-05 20:37:10</td>\n",
       "      <td>2015-04-23 17:35:19</td>\n",
       "      <td>43</td>\n",
       "      <td>BCNKQRKNZZTCW</td>\n",
       "      <td>Ads</td>\n",
       "      <td>IE</td>\n",
       "      <td>M</td>\n",
       "      <td>37</td>\n",
       "      <td>2787799768</td>\n",
       "      <td>0</td>\n",
       "      <td>United States</td>\n",
       "    </tr>\n",
       "    <tr>\n",
       "      <th>119966</th>\n",
       "      <td>150987</td>\n",
       "      <td>228934</td>\n",
       "      <td>2015-01-03 00:31:32</td>\n",
       "      <td>2015-01-24 22:38:31</td>\n",
       "      <td>15</td>\n",
       "      <td>IQBYIWHWVAOSR</td>\n",
       "      <td>SEO</td>\n",
       "      <td>Chrome</td>\n",
       "      <td>M</td>\n",
       "      <td>51</td>\n",
       "      <td>2473417424</td>\n",
       "      <td>0</td>\n",
       "      <td>Australia</td>\n",
       "    </tr>\n",
       "    <tr>\n",
       "      <th>119967</th>\n",
       "      <td>38047</td>\n",
       "      <td>170112</td>\n",
       "      <td>2015-03-19 18:39:02</td>\n",
       "      <td>2015-05-29 20:22:50</td>\n",
       "      <td>19</td>\n",
       "      <td>XFLULDNGLTYYT</td>\n",
       "      <td>SEO</td>\n",
       "      <td>Safari</td>\n",
       "      <td>M</td>\n",
       "      <td>19</td>\n",
       "      <td>244256857</td>\n",
       "      <td>0</td>\n",
       "      <td>India</td>\n",
       "    </tr>\n",
       "    <tr>\n",
       "      <th>119968</th>\n",
       "      <td>7889</td>\n",
       "      <td>241293</td>\n",
       "      <td>2015-08-08 23:47:09</td>\n",
       "      <td>2015-11-13 11:54:58</td>\n",
       "      <td>13</td>\n",
       "      <td>YYIXDWRKXYVTJ</td>\n",
       "      <td>Ads</td>\n",
       "      <td>Chrome</td>\n",
       "      <td>M</td>\n",
       "      <td>20</td>\n",
       "      <td>2064184366</td>\n",
       "      <td>0</td>\n",
       "      <td>China</td>\n",
       "    </tr>\n",
       "    <tr>\n",
       "      <th>119969</th>\n",
       "      <td>25870</td>\n",
       "      <td>369585</td>\n",
       "      <td>2015-08-03 04:58:45</td>\n",
       "      <td>2015-10-14 06:02:14</td>\n",
       "      <td>33</td>\n",
       "      <td>GITIBJLSKSYAV</td>\n",
       "      <td>SEO</td>\n",
       "      <td>IE</td>\n",
       "      <td>M</td>\n",
       "      <td>41</td>\n",
       "      <td>1258616081</td>\n",
       "      <td>0</td>\n",
       "      <td>United States</td>\n",
       "    </tr>\n",
       "    <tr>\n",
       "      <th>119970</th>\n",
       "      <td>42335</td>\n",
       "      <td>40075</td>\n",
       "      <td>2015-01-13 06:24:10</td>\n",
       "      <td>2015-04-06 05:49:10</td>\n",
       "      <td>33</td>\n",
       "      <td>BXZZKJRBSDBHI</td>\n",
       "      <td>Direct</td>\n",
       "      <td>Chrome</td>\n",
       "      <td>M</td>\n",
       "      <td>27</td>\n",
       "      <td>1219900089</td>\n",
       "      <td>0</td>\n",
       "      <td>United States</td>\n",
       "    </tr>\n",
       "    <tr>\n",
       "      <th>119971</th>\n",
       "      <td>24534</td>\n",
       "      <td>266494</td>\n",
       "      <td>2015-08-10 08:00:23</td>\n",
       "      <td>2015-08-13 00:05:22</td>\n",
       "      <td>49</td>\n",
       "      <td>MBOMFDXJCAKIZ</td>\n",
       "      <td>SEO</td>\n",
       "      <td>Safari</td>\n",
       "      <td>M</td>\n",
       "      <td>23</td>\n",
       "      <td>26639827</td>\n",
       "      <td>0</td>\n",
       "      <td>Australia</td>\n",
       "    </tr>\n",
       "    <tr>\n",
       "      <th>119972</th>\n",
       "      <td>128057</td>\n",
       "      <td>316204</td>\n",
       "      <td>2015-03-23 13:40:20</td>\n",
       "      <td>2015-05-01 23:19:45</td>\n",
       "      <td>21</td>\n",
       "      <td>HFGATAGBGFJON</td>\n",
       "      <td>SEO</td>\n",
       "      <td>Safari</td>\n",
       "      <td>F</td>\n",
       "      <td>27</td>\n",
       "      <td>1426735095</td>\n",
       "      <td>0</td>\n",
       "      <td>Croatia (LOCAL Name: Hrvatska)</td>\n",
       "    </tr>\n",
       "    <tr>\n",
       "      <th>119973</th>\n",
       "      <td>23149</td>\n",
       "      <td>65107</td>\n",
       "      <td>2015-02-14 17:28:00</td>\n",
       "      <td>2015-06-08 12:26:13</td>\n",
       "      <td>40</td>\n",
       "      <td>VAOVJOJIJRCKF</td>\n",
       "      <td>Direct</td>\n",
       "      <td>Chrome</td>\n",
       "      <td>M</td>\n",
       "      <td>21</td>\n",
       "      <td>2661960100</td>\n",
       "      <td>0</td>\n",
       "      <td>Chile</td>\n",
       "    </tr>\n",
       "    <tr>\n",
       "      <th>119974</th>\n",
       "      <td>23553</td>\n",
       "      <td>131403</td>\n",
       "      <td>2015-01-10 13:27:04</td>\n",
       "      <td>2015-01-10 13:27:05</td>\n",
       "      <td>76</td>\n",
       "      <td>DAKVYHKIEYRBH</td>\n",
       "      <td>SEO</td>\n",
       "      <td>Chrome</td>\n",
       "      <td>F</td>\n",
       "      <td>48</td>\n",
       "      <td>636104095</td>\n",
       "      <td>1</td>\n",
       "      <td>Hungary</td>\n",
       "    </tr>\n",
       "    <tr>\n",
       "      <th>119975</th>\n",
       "      <td>2401</td>\n",
       "      <td>358342</td>\n",
       "      <td>2015-02-06 10:49:06</td>\n",
       "      <td>2015-02-24 09:14:04</td>\n",
       "      <td>39</td>\n",
       "      <td>VKSQMLMCCGIFK</td>\n",
       "      <td>Ads</td>\n",
       "      <td>Chrome</td>\n",
       "      <td>M</td>\n",
       "      <td>26</td>\n",
       "      <td>3550108008</td>\n",
       "      <td>0</td>\n",
       "      <td>China</td>\n",
       "    </tr>\n",
       "    <tr>\n",
       "      <th>119976</th>\n",
       "      <td>13442</td>\n",
       "      <td>82106</td>\n",
       "      <td>2015-08-14 23:23:41</td>\n",
       "      <td>2015-10-15 11:31:24</td>\n",
       "      <td>17</td>\n",
       "      <td>JDMCUQZPIOMRL</td>\n",
       "      <td>Ads</td>\n",
       "      <td>IE</td>\n",
       "      <td>M</td>\n",
       "      <td>35</td>\n",
       "      <td>3411219370</td>\n",
       "      <td>0</td>\n",
       "      <td>Papua New Guinea</td>\n",
       "    </tr>\n",
       "    <tr>\n",
       "      <th>119977</th>\n",
       "      <td>109225</td>\n",
       "      <td>167468</td>\n",
       "      <td>2015-07-02 21:05:41</td>\n",
       "      <td>2015-08-25 13:29:23</td>\n",
       "      <td>44</td>\n",
       "      <td>MQYOCEZHCTIIJ</td>\n",
       "      <td>SEO</td>\n",
       "      <td>Chrome</td>\n",
       "      <td>F</td>\n",
       "      <td>35</td>\n",
       "      <td>169743783</td>\n",
       "      <td>0</td>\n",
       "      <td></td>\n",
       "    </tr>\n",
       "    <tr>\n",
       "      <th>119978</th>\n",
       "      <td>83767</td>\n",
       "      <td>127911</td>\n",
       "      <td>2015-05-02 02:01:50</td>\n",
       "      <td>2015-06-20 07:52:07</td>\n",
       "      <td>56</td>\n",
       "      <td>XZPEVZYOFDOWT</td>\n",
       "      <td>SEO</td>\n",
       "      <td>Safari</td>\n",
       "      <td>F</td>\n",
       "      <td>34</td>\n",
       "      <td>840975023</td>\n",
       "      <td>0</td>\n",
       "      <td>United States</td>\n",
       "    </tr>\n",
       "    <tr>\n",
       "      <th>119979</th>\n",
       "      <td>12518</td>\n",
       "      <td>214279</td>\n",
       "      <td>2015-01-09 01:14:56</td>\n",
       "      <td>2015-02-25 05:39:18</td>\n",
       "      <td>38</td>\n",
       "      <td>BRMKXWBWUGIOX</td>\n",
       "      <td>SEO</td>\n",
       "      <td>Chrome</td>\n",
       "      <td>M</td>\n",
       "      <td>28</td>\n",
       "      <td>697086044</td>\n",
       "      <td>0</td>\n",
       "      <td>Morocco</td>\n",
       "    </tr>\n",
       "    <tr>\n",
       "      <th>119980</th>\n",
       "      <td>123338</td>\n",
       "      <td>129418</td>\n",
       "      <td>2015-03-12 09:21:10</td>\n",
       "      <td>2015-07-09 01:03:55</td>\n",
       "      <td>33</td>\n",
       "      <td>ALRJLGBEPSAKN</td>\n",
       "      <td>SEO</td>\n",
       "      <td>Chrome</td>\n",
       "      <td>M</td>\n",
       "      <td>35</td>\n",
       "      <td>1708450802</td>\n",
       "      <td>0</td>\n",
       "      <td>India</td>\n",
       "    </tr>\n",
       "    <tr>\n",
       "      <th>119981</th>\n",
       "      <td>22597</td>\n",
       "      <td>117790</td>\n",
       "      <td>2015-03-31 17:46:23</td>\n",
       "      <td>2015-07-14 20:26:46</td>\n",
       "      <td>43</td>\n",
       "      <td>KNDBHXZXXZSUY</td>\n",
       "      <td>SEO</td>\n",
       "      <td>Chrome</td>\n",
       "      <td>F</td>\n",
       "      <td>31</td>\n",
       "      <td>1513786208</td>\n",
       "      <td>0</td>\n",
       "      <td>France</td>\n",
       "    </tr>\n",
       "    <tr>\n",
       "      <th>119982</th>\n",
       "      <td>9671</td>\n",
       "      <td>104227</td>\n",
       "      <td>2015-06-20 00:59:38</td>\n",
       "      <td>2015-10-15 21:07:47</td>\n",
       "      <td>66</td>\n",
       "      <td>SYARHUOLMSUMS</td>\n",
       "      <td>SEO</td>\n",
       "      <td>Chrome</td>\n",
       "      <td>M</td>\n",
       "      <td>48</td>\n",
       "      <td>1137076825</td>\n",
       "      <td>0</td>\n",
       "      <td>United States</td>\n",
       "    </tr>\n",
       "    <tr>\n",
       "      <th>119983</th>\n",
       "      <td>108118</td>\n",
       "      <td>395774</td>\n",
       "      <td>2015-05-23 03:14:40</td>\n",
       "      <td>2015-07-20 17:53:36</td>\n",
       "      <td>44</td>\n",
       "      <td>LBCIZMIWOUTWL</td>\n",
       "      <td>Ads</td>\n",
       "      <td>Chrome</td>\n",
       "      <td>F</td>\n",
       "      <td>21</td>\n",
       "      <td>294308592</td>\n",
       "      <td>0</td>\n",
       "      <td>United States</td>\n",
       "    </tr>\n",
       "    <tr>\n",
       "      <th>119984</th>\n",
       "      <td>138326</td>\n",
       "      <td>294931</td>\n",
       "      <td>2015-02-05 09:08:05</td>\n",
       "      <td>2015-02-23 01:15:56</td>\n",
       "      <td>49</td>\n",
       "      <td>WIEIFVRPYUIIB</td>\n",
       "      <td>Direct</td>\n",
       "      <td>FireFox</td>\n",
       "      <td>M</td>\n",
       "      <td>23</td>\n",
       "      <td>3463464595</td>\n",
       "      <td>0</td>\n",
       "      <td>United States</td>\n",
       "    </tr>\n",
       "    <tr>\n",
       "      <th>119985</th>\n",
       "      <td>46522</td>\n",
       "      <td>262056</td>\n",
       "      <td>2015-03-25 09:19:01</td>\n",
       "      <td>2015-03-30 18:13:38</td>\n",
       "      <td>44</td>\n",
       "      <td>FSBIBEOOKOTEH</td>\n",
       "      <td>Ads</td>\n",
       "      <td>Chrome</td>\n",
       "      <td>M</td>\n",
       "      <td>27</td>\n",
       "      <td>1398849605</td>\n",
       "      <td>0</td>\n",
       "      <td>Netherlands</td>\n",
       "    </tr>\n",
       "    <tr>\n",
       "      <th>119986</th>\n",
       "      <td>46</td>\n",
       "      <td>313833</td>\n",
       "      <td>2015-08-16 20:48:52</td>\n",
       "      <td>2015-11-17 09:43:11</td>\n",
       "      <td>12</td>\n",
       "      <td>GDATAKTYQUGWR</td>\n",
       "      <td>Ads</td>\n",
       "      <td>IE</td>\n",
       "      <td>M</td>\n",
       "      <td>55</td>\n",
       "      <td>569038405</td>\n",
       "      <td>0</td>\n",
       "      <td>United States</td>\n",
       "    </tr>\n",
       "    <tr>\n",
       "      <th>119987</th>\n",
       "      <td>25614</td>\n",
       "      <td>124227</td>\n",
       "      <td>2015-03-29 03:58:27</td>\n",
       "      <td>2015-06-22 22:59:13</td>\n",
       "      <td>57</td>\n",
       "      <td>JPEDKYCRBPNEF</td>\n",
       "      <td>Direct</td>\n",
       "      <td>Safari</td>\n",
       "      <td>F</td>\n",
       "      <td>38</td>\n",
       "      <td>3352139535</td>\n",
       "      <td>0</td>\n",
       "      <td>United States</td>\n",
       "    </tr>\n",
       "    <tr>\n",
       "      <th>119988</th>\n",
       "      <td>68344</td>\n",
       "      <td>379065</td>\n",
       "      <td>2015-03-14 19:43:04</td>\n",
       "      <td>2015-05-06 15:09:23</td>\n",
       "      <td>48</td>\n",
       "      <td>TPVDXCUWUGJFV</td>\n",
       "      <td>Ads</td>\n",
       "      <td>Chrome</td>\n",
       "      <td>M</td>\n",
       "      <td>23</td>\n",
       "      <td>3778213440</td>\n",
       "      <td>1</td>\n",
       "      <td></td>\n",
       "    </tr>\n",
       "    <tr>\n",
       "      <th>119989</th>\n",
       "      <td>119879</td>\n",
       "      <td>19916</td>\n",
       "      <td>2015-03-15 09:51:41</td>\n",
       "      <td>2015-05-23 01:37:57</td>\n",
       "      <td>24</td>\n",
       "      <td>KTXGKQGOVLTAR</td>\n",
       "      <td>SEO</td>\n",
       "      <td>Chrome</td>\n",
       "      <td>M</td>\n",
       "      <td>32</td>\n",
       "      <td>4270132349</td>\n",
       "      <td>0</td>\n",
       "      <td></td>\n",
       "    </tr>\n",
       "    <tr>\n",
       "      <th>119990</th>\n",
       "      <td>63168</td>\n",
       "      <td>394991</td>\n",
       "      <td>2015-01-05 20:33:01</td>\n",
       "      <td>2015-01-05 20:33:02</td>\n",
       "      <td>43</td>\n",
       "      <td>HHRDVZXIVQSVZ</td>\n",
       "      <td>SEO</td>\n",
       "      <td>Safari</td>\n",
       "      <td>M</td>\n",
       "      <td>29</td>\n",
       "      <td>2188026725</td>\n",
       "      <td>1</td>\n",
       "      <td>United States</td>\n",
       "    </tr>\n",
       "    <tr>\n",
       "      <th>119991</th>\n",
       "      <td>27699</td>\n",
       "      <td>189144</td>\n",
       "      <td>2015-07-18 00:46:35</td>\n",
       "      <td>2015-10-13 16:25:35</td>\n",
       "      <td>90</td>\n",
       "      <td>RUFCOBOZXNKTC</td>\n",
       "      <td>Ads</td>\n",
       "      <td>FireFox</td>\n",
       "      <td>F</td>\n",
       "      <td>31</td>\n",
       "      <td>705494603</td>\n",
       "      <td>0</td>\n",
       "      <td>Korea Republic of</td>\n",
       "    </tr>\n",
       "    <tr>\n",
       "      <th>119992</th>\n",
       "      <td>62933</td>\n",
       "      <td>313639</td>\n",
       "      <td>2015-01-10 07:26:14</td>\n",
       "      <td>2015-01-24 07:40:29</td>\n",
       "      <td>28</td>\n",
       "      <td>SJJTFOQLYMYNL</td>\n",
       "      <td>SEO</td>\n",
       "      <td>Chrome</td>\n",
       "      <td>M</td>\n",
       "      <td>34</td>\n",
       "      <td>2284794610</td>\n",
       "      <td>0</td>\n",
       "      <td>United States</td>\n",
       "    </tr>\n",
       "    <tr>\n",
       "      <th>119993</th>\n",
       "      <td>26115</td>\n",
       "      <td>394700</td>\n",
       "      <td>2015-01-11 03:34:13</td>\n",
       "      <td>2015-01-11 03:34:14</td>\n",
       "      <td>37</td>\n",
       "      <td>ZLINYCBCGUIEM</td>\n",
       "      <td>SEO</td>\n",
       "      <td>FireFox</td>\n",
       "      <td>M</td>\n",
       "      <td>41</td>\n",
       "      <td>2058991226</td>\n",
       "      <td>1</td>\n",
       "      <td>India</td>\n",
       "    </tr>\n",
       "    <tr>\n",
       "      <th>119994</th>\n",
       "      <td>65623</td>\n",
       "      <td>136653</td>\n",
       "      <td>2015-08-15 23:10:53</td>\n",
       "      <td>2015-11-18 15:23:13</td>\n",
       "      <td>38</td>\n",
       "      <td>PUFYNBDMIPAVJ</td>\n",
       "      <td>Ads</td>\n",
       "      <td>IE</td>\n",
       "      <td>M</td>\n",
       "      <td>33</td>\n",
       "      <td>3764405867</td>\n",
       "      <td>0</td>\n",
       "      <td></td>\n",
       "    </tr>\n",
       "    <tr>\n",
       "      <th>119995</th>\n",
       "      <td>13862</td>\n",
       "      <td>116698</td>\n",
       "      <td>2015-02-26 11:51:13</td>\n",
       "      <td>2015-04-16 22:57:15</td>\n",
       "      <td>46</td>\n",
       "      <td>UJYRDGZXTFFJG</td>\n",
       "      <td>Ads</td>\n",
       "      <td>Chrome</td>\n",
       "      <td>M</td>\n",
       "      <td>18</td>\n",
       "      <td>2509395149</td>\n",
       "      <td>0</td>\n",
       "      <td>Netherlands</td>\n",
       "    </tr>\n",
       "    <tr>\n",
       "      <th>119996</th>\n",
       "      <td>122655</td>\n",
       "      <td>122699</td>\n",
       "      <td>2015-08-01 18:40:40</td>\n",
       "      <td>2015-08-25 07:56:15</td>\n",
       "      <td>26</td>\n",
       "      <td>EMMTCPTUYQYPX</td>\n",
       "      <td>Ads</td>\n",
       "      <td>IE</td>\n",
       "      <td>F</td>\n",
       "      <td>36</td>\n",
       "      <td>2946611969</td>\n",
       "      <td>0</td>\n",
       "      <td>China</td>\n",
       "    </tr>\n",
       "    <tr>\n",
       "      <th>119997</th>\n",
       "      <td>125965</td>\n",
       "      <td>115120</td>\n",
       "      <td>2015-07-25 12:50:06</td>\n",
       "      <td>2015-09-03 04:10:58</td>\n",
       "      <td>41</td>\n",
       "      <td>YSZGGEARGETEU</td>\n",
       "      <td>SEO</td>\n",
       "      <td>Chrome</td>\n",
       "      <td>M</td>\n",
       "      <td>31</td>\n",
       "      <td>557062884</td>\n",
       "      <td>0</td>\n",
       "      <td>United States</td>\n",
       "    </tr>\n",
       "    <tr>\n",
       "      <th>119998</th>\n",
       "      <td>31108</td>\n",
       "      <td>87098</td>\n",
       "      <td>2015-04-02 21:11:44</td>\n",
       "      <td>2015-06-22 16:51:51</td>\n",
       "      <td>50</td>\n",
       "      <td>BJDWRJULJZNOV</td>\n",
       "      <td>SEO</td>\n",
       "      <td>Chrome</td>\n",
       "      <td>F</td>\n",
       "      <td>43</td>\n",
       "      <td>2687886785</td>\n",
       "      <td>0</td>\n",
       "      <td>Switzerland</td>\n",
       "    </tr>\n",
       "    <tr>\n",
       "      <th>119999</th>\n",
       "      <td>46646</td>\n",
       "      <td>341401</td>\n",
       "      <td>2015-07-15 15:11:51</td>\n",
       "      <td>2015-09-03 13:45:47</td>\n",
       "      <td>32</td>\n",
       "      <td>AOKZUNMPCDKVK</td>\n",
       "      <td>Ads</td>\n",
       "      <td>Chrome</td>\n",
       "      <td>F</td>\n",
       "      <td>47</td>\n",
       "      <td>1174840147</td>\n",
       "      <td>0</td>\n",
       "      <td>United States</td>\n",
       "    </tr>\n",
       "  </tbody>\n",
       "</table>\n",
       "</div>"
      ],
      "text/plain": [
       "        Unnamed: 0  user_id          signup_time        purchase_time  \\\n",
       "119950       37361   213844  2015-04-01 01:10:18  2015-05-10 08:04:14   \n",
       "119951       77475   100771  2015-03-22 16:57:13  2015-04-04 20:16:04   \n",
       "119952       95189     6242  2015-05-10 23:48:26  2015-07-19 14:45:11   \n",
       "119953      142175   270666  2015-03-16 05:58:02  2015-03-24 07:15:38   \n",
       "119954       31718     2227  2015-08-10 13:30:16  2015-09-23 03:04:11   \n",
       "119955      134659   343231  2015-05-18 02:41:13  2015-08-02 19:28:13   \n",
       "119956      130382     6016  2015-03-21 19:36:22  2015-04-20 19:55:30   \n",
       "119957      128159   118441  2015-07-03 13:03:07  2015-07-03 16:14:51   \n",
       "119958      112195   330662  2015-04-10 23:13:51  2015-06-23 21:13:13   \n",
       "119959       66325    90327  2015-07-09 09:52:44  2015-09-11 10:33:53   \n",
       "119960      112611   173124  2015-01-22 05:04:41  2015-05-14 09:46:51   \n",
       "119961       60039    49470  2015-03-31 02:33:34  2015-06-26 10:50:00   \n",
       "119962       78282   381193  2015-01-05 16:26:42  2015-01-05 16:26:43   \n",
       "119963       33332    15457  2015-01-02 02:31:01  2015-01-02 02:31:02   \n",
       "119964      108654   180117  2015-05-18 15:54:09  2015-09-03 09:06:43   \n",
       "119965       16416   313154  2015-02-05 20:37:10  2015-04-23 17:35:19   \n",
       "119966      150987   228934  2015-01-03 00:31:32  2015-01-24 22:38:31   \n",
       "119967       38047   170112  2015-03-19 18:39:02  2015-05-29 20:22:50   \n",
       "119968        7889   241293  2015-08-08 23:47:09  2015-11-13 11:54:58   \n",
       "119969       25870   369585  2015-08-03 04:58:45  2015-10-14 06:02:14   \n",
       "119970       42335    40075  2015-01-13 06:24:10  2015-04-06 05:49:10   \n",
       "119971       24534   266494  2015-08-10 08:00:23  2015-08-13 00:05:22   \n",
       "119972      128057   316204  2015-03-23 13:40:20  2015-05-01 23:19:45   \n",
       "119973       23149    65107  2015-02-14 17:28:00  2015-06-08 12:26:13   \n",
       "119974       23553   131403  2015-01-10 13:27:04  2015-01-10 13:27:05   \n",
       "119975        2401   358342  2015-02-06 10:49:06  2015-02-24 09:14:04   \n",
       "119976       13442    82106  2015-08-14 23:23:41  2015-10-15 11:31:24   \n",
       "119977      109225   167468  2015-07-02 21:05:41  2015-08-25 13:29:23   \n",
       "119978       83767   127911  2015-05-02 02:01:50  2015-06-20 07:52:07   \n",
       "119979       12518   214279  2015-01-09 01:14:56  2015-02-25 05:39:18   \n",
       "119980      123338   129418  2015-03-12 09:21:10  2015-07-09 01:03:55   \n",
       "119981       22597   117790  2015-03-31 17:46:23  2015-07-14 20:26:46   \n",
       "119982        9671   104227  2015-06-20 00:59:38  2015-10-15 21:07:47   \n",
       "119983      108118   395774  2015-05-23 03:14:40  2015-07-20 17:53:36   \n",
       "119984      138326   294931  2015-02-05 09:08:05  2015-02-23 01:15:56   \n",
       "119985       46522   262056  2015-03-25 09:19:01  2015-03-30 18:13:38   \n",
       "119986          46   313833  2015-08-16 20:48:52  2015-11-17 09:43:11   \n",
       "119987       25614   124227  2015-03-29 03:58:27  2015-06-22 22:59:13   \n",
       "119988       68344   379065  2015-03-14 19:43:04  2015-05-06 15:09:23   \n",
       "119989      119879    19916  2015-03-15 09:51:41  2015-05-23 01:37:57   \n",
       "119990       63168   394991  2015-01-05 20:33:01  2015-01-05 20:33:02   \n",
       "119991       27699   189144  2015-07-18 00:46:35  2015-10-13 16:25:35   \n",
       "119992       62933   313639  2015-01-10 07:26:14  2015-01-24 07:40:29   \n",
       "119993       26115   394700  2015-01-11 03:34:13  2015-01-11 03:34:14   \n",
       "119994       65623   136653  2015-08-15 23:10:53  2015-11-18 15:23:13   \n",
       "119995       13862   116698  2015-02-26 11:51:13  2015-04-16 22:57:15   \n",
       "119996      122655   122699  2015-08-01 18:40:40  2015-08-25 07:56:15   \n",
       "119997      125965   115120  2015-07-25 12:50:06  2015-09-03 04:10:58   \n",
       "119998       31108    87098  2015-04-02 21:11:44  2015-06-22 16:51:51   \n",
       "119999       46646   341401  2015-07-15 15:11:51  2015-09-03 13:45:47   \n",
       "\n",
       "        purchase_value      device_id  source  browser sex  age  ip_address  \\\n",
       "119950              45  KCPPDGQAPRIMC     Ads       IE   F   39   409999957   \n",
       "119951              41  KRJEGKMJSDPUN     Ads   Chrome   F   32  4197714918   \n",
       "119952              30  STLYCYBRCEJOF  Direct  FireFox   F   20  3260164427   \n",
       "119953              10  AQYSHSOLZYKMS     Ads   Safari   M   33   674766110   \n",
       "119954              56  OBAATUXIXRLVZ     SEO       IE   F   38  2802288933   \n",
       "119955               9  VVVHRQPVMDMVN     SEO   Chrome   M   29   476581190   \n",
       "119956              18  BZVCBXDMNBNPU     SEO       IE   F   26   916699260   \n",
       "119957              35  JXBLAXJRCSMAZ     SEO   Safari   F   42  3726883059   \n",
       "119958              47  ZTWGIPERJCEQM     Ads   Chrome   F   27   268009595   \n",
       "119959              45  SWHYUYTQABAIE     Ads  FireFox   M   32  2951510536   \n",
       "119960              46  BKLQTHLSBBFNT     SEO  FireFox   M   24  3825334548   \n",
       "119961              50  ADWQPCMTZAKJA     Ads   Safari   F   38  3697461292   \n",
       "119962              42  PBQTNXFSTRFQP  Direct    Opera   M   19  2228514657   \n",
       "119963              12  VVIOXFJXTBAVQ     SEO  FireFox   F   47  2057717692   \n",
       "119964              25  EMQSSTWMCHKGE  Direct       IE   F   51  1393773863   \n",
       "119965              43  BCNKQRKNZZTCW     Ads       IE   M   37  2787799768   \n",
       "119966              15  IQBYIWHWVAOSR     SEO   Chrome   M   51  2473417424   \n",
       "119967              19  XFLULDNGLTYYT     SEO   Safari   M   19   244256857   \n",
       "119968              13  YYIXDWRKXYVTJ     Ads   Chrome   M   20  2064184366   \n",
       "119969              33  GITIBJLSKSYAV     SEO       IE   M   41  1258616081   \n",
       "119970              33  BXZZKJRBSDBHI  Direct   Chrome   M   27  1219900089   \n",
       "119971              49  MBOMFDXJCAKIZ     SEO   Safari   M   23    26639827   \n",
       "119972              21  HFGATAGBGFJON     SEO   Safari   F   27  1426735095   \n",
       "119973              40  VAOVJOJIJRCKF  Direct   Chrome   M   21  2661960100   \n",
       "119974              76  DAKVYHKIEYRBH     SEO   Chrome   F   48   636104095   \n",
       "119975              39  VKSQMLMCCGIFK     Ads   Chrome   M   26  3550108008   \n",
       "119976              17  JDMCUQZPIOMRL     Ads       IE   M   35  3411219370   \n",
       "119977              44  MQYOCEZHCTIIJ     SEO   Chrome   F   35   169743783   \n",
       "119978              56  XZPEVZYOFDOWT     SEO   Safari   F   34   840975023   \n",
       "119979              38  BRMKXWBWUGIOX     SEO   Chrome   M   28   697086044   \n",
       "119980              33  ALRJLGBEPSAKN     SEO   Chrome   M   35  1708450802   \n",
       "119981              43  KNDBHXZXXZSUY     SEO   Chrome   F   31  1513786208   \n",
       "119982              66  SYARHUOLMSUMS     SEO   Chrome   M   48  1137076825   \n",
       "119983              44  LBCIZMIWOUTWL     Ads   Chrome   F   21   294308592   \n",
       "119984              49  WIEIFVRPYUIIB  Direct  FireFox   M   23  3463464595   \n",
       "119985              44  FSBIBEOOKOTEH     Ads   Chrome   M   27  1398849605   \n",
       "119986              12  GDATAKTYQUGWR     Ads       IE   M   55   569038405   \n",
       "119987              57  JPEDKYCRBPNEF  Direct   Safari   F   38  3352139535   \n",
       "119988              48  TPVDXCUWUGJFV     Ads   Chrome   M   23  3778213440   \n",
       "119989              24  KTXGKQGOVLTAR     SEO   Chrome   M   32  4270132349   \n",
       "119990              43  HHRDVZXIVQSVZ     SEO   Safari   M   29  2188026725   \n",
       "119991              90  RUFCOBOZXNKTC     Ads  FireFox   F   31   705494603   \n",
       "119992              28  SJJTFOQLYMYNL     SEO   Chrome   M   34  2284794610   \n",
       "119993              37  ZLINYCBCGUIEM     SEO  FireFox   M   41  2058991226   \n",
       "119994              38  PUFYNBDMIPAVJ     Ads       IE   M   33  3764405867   \n",
       "119995              46  UJYRDGZXTFFJG     Ads   Chrome   M   18  2509395149   \n",
       "119996              26  EMMTCPTUYQYPX     Ads       IE   F   36  2946611969   \n",
       "119997              41  YSZGGEARGETEU     SEO   Chrome   M   31   557062884   \n",
       "119998              50  BJDWRJULJZNOV     SEO   Chrome   F   43  2687886785   \n",
       "119999              32  AOKZUNMPCDKVK     Ads   Chrome   F   47  1174840147   \n",
       "\n",
       "        class                         country  \n",
       "119950      0                   United States  \n",
       "119951      0                                  \n",
       "119952      0                  United Kingdom  \n",
       "119953      0                   United States  \n",
       "119954      0                   United States  \n",
       "119955      0                   United States  \n",
       "119956      0                   United States  \n",
       "119957      0                           China  \n",
       "119958      0                   United States  \n",
       "119959      0               Korea Republic of  \n",
       "119960      0                                  \n",
       "119961      0                           Japan  \n",
       "119962      1                          Canada  \n",
       "119963      1                           India  \n",
       "119964      0                          Poland  \n",
       "119965      0                   United States  \n",
       "119966      0                       Australia  \n",
       "119967      0                           India  \n",
       "119968      0                           China  \n",
       "119969      0                   United States  \n",
       "119970      0                   United States  \n",
       "119971      0                       Australia  \n",
       "119972      0  Croatia (LOCAL Name: Hrvatska)  \n",
       "119973      0                           Chile  \n",
       "119974      1                         Hungary  \n",
       "119975      0                           China  \n",
       "119976      0                Papua New Guinea  \n",
       "119977      0                                  \n",
       "119978      0                   United States  \n",
       "119979      0                         Morocco  \n",
       "119980      0                           India  \n",
       "119981      0                          France  \n",
       "119982      0                   United States  \n",
       "119983      0                   United States  \n",
       "119984      0                   United States  \n",
       "119985      0                     Netherlands  \n",
       "119986      0                   United States  \n",
       "119987      0                   United States  \n",
       "119988      1                                  \n",
       "119989      0                                  \n",
       "119990      1                   United States  \n",
       "119991      0               Korea Republic of  \n",
       "119992      0                   United States  \n",
       "119993      1                           India  \n",
       "119994      0                                  \n",
       "119995      0                     Netherlands  \n",
       "119996      0                           China  \n",
       "119997      0                   United States  \n",
       "119998      0                     Switzerland  \n",
       "119999      0                   United States  "
      ]
     },
     "execution_count": 35,
     "metadata": {},
     "output_type": "execute_result"
    }
   ],
   "source": [
    "df.tail(50)"
   ]
  },
  {
   "cell_type": "code",
   "execution_count": 36,
   "metadata": {
    "hidden": true
   },
   "outputs": [],
   "source": [
    "df.to_pickle(\"ATDjoin.pkl\")"
   ]
  },
  {
   "cell_type": "code",
   "execution_count": 37,
   "metadata": {
    "hidden": true
   },
   "outputs": [],
   "source": [
    "df3 = pd.read_pickle('ATDjoin.pkl')"
   ]
  },
  {
   "cell_type": "code",
   "execution_count": 39,
   "metadata": {
    "hidden": true
   },
   "outputs": [
    {
     "data": {
      "text/plain": [
       "(120000, 13)"
      ]
     },
     "execution_count": 39,
     "metadata": {},
     "output_type": "execute_result"
    }
   ],
   "source": [
    "df3.shape"
   ]
  },
  {
   "cell_type": "code",
   "execution_count": 45,
   "metadata": {
    "hidden": true
   },
   "outputs": [
    {
     "data": {
      "text/plain": [
       "'Chile'"
      ]
     },
     "execution_count": 45,
     "metadata": {},
     "output_type": "execute_result"
    }
   ],
   "source": [
    "df1.set_index(s).loc['2661960100'].country"
   ]
  },
  {
   "cell_type": "code",
   "execution_count": 46,
   "metadata": {
    "hidden": true
   },
   "outputs": [
    {
     "data": {
      "text/plain": [
       "17419"
      ]
     },
     "execution_count": 46,
     "metadata": {},
     "output_type": "execute_result"
    }
   ],
   "source": [
    "(df['country'] == '').sum()"
   ]
  },
  {
   "cell_type": "code",
   "execution_count": 53,
   "metadata": {
    "hidden": true
   },
   "outputs": [
    {
     "data": {
      "text/html": [
       "<div>\n",
       "<style scoped>\n",
       "    .dataframe tbody tr th:only-of-type {\n",
       "        vertical-align: middle;\n",
       "    }\n",
       "\n",
       "    .dataframe tbody tr th {\n",
       "        vertical-align: top;\n",
       "    }\n",
       "\n",
       "    .dataframe thead th {\n",
       "        text-align: right;\n",
       "    }\n",
       "</style>\n",
       "<table border=\"1\" class=\"dataframe\">\n",
       "  <thead>\n",
       "    <tr style=\"text-align: right;\">\n",
       "      <th></th>\n",
       "      <th>Unnamed: 0</th>\n",
       "      <th>user_id</th>\n",
       "      <th>signup_time</th>\n",
       "      <th>purchase_time</th>\n",
       "      <th>purchase_value</th>\n",
       "      <th>device_id</th>\n",
       "      <th>source</th>\n",
       "      <th>browser</th>\n",
       "      <th>sex</th>\n",
       "      <th>age</th>\n",
       "      <th>ip_address</th>\n",
       "      <th>class</th>\n",
       "      <th>country</th>\n",
       "    </tr>\n",
       "  </thead>\n",
       "  <tbody>\n",
       "    <tr>\n",
       "      <th>0</th>\n",
       "      <td>149671</td>\n",
       "      <td>285108</td>\n",
       "      <td>2015-07-15 04:36:55</td>\n",
       "      <td>2015-09-10 14:17:56</td>\n",
       "      <td>31</td>\n",
       "      <td>HZAKVUFTDOSFD</td>\n",
       "      <td>Direct</td>\n",
       "      <td>Chrome</td>\n",
       "      <td>M</td>\n",
       "      <td>49</td>\n",
       "      <td>2818400139</td>\n",
       "      <td>0</td>\n",
       "      <td></td>\n",
       "    </tr>\n",
       "    <tr>\n",
       "      <th>1</th>\n",
       "      <td>15611</td>\n",
       "      <td>131009</td>\n",
       "      <td>2015-01-24 12:29:58</td>\n",
       "      <td>2015-04-13 04:53:55</td>\n",
       "      <td>31</td>\n",
       "      <td>XGQAJSOUJIZCC</td>\n",
       "      <td>SEO</td>\n",
       "      <td>IE</td>\n",
       "      <td>F</td>\n",
       "      <td>21</td>\n",
       "      <td>3251268287</td>\n",
       "      <td>0</td>\n",
       "      <td>United Kingdom</td>\n",
       "    </tr>\n",
       "    <tr>\n",
       "      <th>2</th>\n",
       "      <td>73178</td>\n",
       "      <td>328855</td>\n",
       "      <td>2015-03-11 00:54:12</td>\n",
       "      <td>2015-04-05 12:23:49</td>\n",
       "      <td>16</td>\n",
       "      <td>VCCTAYDCWKZIY</td>\n",
       "      <td>Direct</td>\n",
       "      <td>IE</td>\n",
       "      <td>M</td>\n",
       "      <td>26</td>\n",
       "      <td>2727760440</td>\n",
       "      <td>0</td>\n",
       "      <td>United States</td>\n",
       "    </tr>\n",
       "    <tr>\n",
       "      <th>3</th>\n",
       "      <td>84546</td>\n",
       "      <td>229053</td>\n",
       "      <td>2015-01-07 13:19:17</td>\n",
       "      <td>2015-01-09 10:12:06</td>\n",
       "      <td>29</td>\n",
       "      <td>MFFIHYNXCJLEY</td>\n",
       "      <td>SEO</td>\n",
       "      <td>Chrome</td>\n",
       "      <td>M</td>\n",
       "      <td>34</td>\n",
       "      <td>2083419525</td>\n",
       "      <td>0</td>\n",
       "      <td>Korea Republic of</td>\n",
       "    </tr>\n",
       "    <tr>\n",
       "      <th>4</th>\n",
       "      <td>35978</td>\n",
       "      <td>108439</td>\n",
       "      <td>2015-02-08 21:11:04</td>\n",
       "      <td>2015-04-09 14:26:10</td>\n",
       "      <td>26</td>\n",
       "      <td>WMSXWGVPNIFBM</td>\n",
       "      <td>Ads</td>\n",
       "      <td>FireFox</td>\n",
       "      <td>M</td>\n",
       "      <td>33</td>\n",
       "      <td>3207912663</td>\n",
       "      <td>0</td>\n",
       "      <td>Brazil</td>\n",
       "    </tr>\n",
       "  </tbody>\n",
       "</table>\n",
       "</div>"
      ],
      "text/plain": [
       "   Unnamed: 0  user_id          signup_time        purchase_time  \\\n",
       "0      149671   285108  2015-07-15 04:36:55  2015-09-10 14:17:56   \n",
       "1       15611   131009  2015-01-24 12:29:58  2015-04-13 04:53:55   \n",
       "2       73178   328855  2015-03-11 00:54:12  2015-04-05 12:23:49   \n",
       "3       84546   229053  2015-01-07 13:19:17  2015-01-09 10:12:06   \n",
       "4       35978   108439  2015-02-08 21:11:04  2015-04-09 14:26:10   \n",
       "\n",
       "   purchase_value      device_id  source  browser sex  age  ip_address  class  \\\n",
       "0              31  HZAKVUFTDOSFD  Direct   Chrome   M   49  2818400139      0   \n",
       "1              31  XGQAJSOUJIZCC     SEO       IE   F   21  3251268287      0   \n",
       "2              16  VCCTAYDCWKZIY  Direct       IE   M   26  2727760440      0   \n",
       "3              29  MFFIHYNXCJLEY     SEO   Chrome   M   34  2083419525      0   \n",
       "4              26  WMSXWGVPNIFBM     Ads  FireFox   M   33  3207912663      0   \n",
       "\n",
       "             country  \n",
       "0                     \n",
       "1     United Kingdom  \n",
       "2      United States  \n",
       "3  Korea Republic of  \n",
       "4             Brazil  "
      ]
     },
     "execution_count": 53,
     "metadata": {},
     "output_type": "execute_result"
    }
   ],
   "source": [
    "normal_df.head()"
   ]
  },
  {
   "cell_type": "markdown",
   "metadata": {
    "heading_collapsed": true
   },
   "source": [
    "### Exploratory Data Analysis"
   ]
  },
  {
   "cell_type": "code",
   "execution_count": 54,
   "metadata": {
    "hidden": true
   },
   "outputs": [],
   "source": [
    "df['purchase_dates'] = pd.to_datetime(df['purchase_time']).dt.date\n",
    "df['purchase_t'] = pd.to_datetime(df['purchase_time']).dt.time\n",
    "normal_df = df[df[\"class\"] == 0]\n",
    "fraud_df = df[df[\"class\"] == 1]"
   ]
  },
  {
   "cell_type": "markdown",
   "metadata": {
    "heading_collapsed": true,
    "hidden": true
   },
   "source": [
    "#### Amount Percentage Fraud-Normal Visualization"
   ]
  },
  {
   "cell_type": "code",
   "execution_count": 70,
   "metadata": {
    "hidden": true
   },
   "outputs": [
    {
     "data": {
      "image/png": "[encoded data removed]",
      "text/plain": [
       "<Figure size 1152x576 with 1 Axes>"
      ]
     },
     "metadata": {
      "needs_background": "light"
     },
     "output_type": "display_data"
    }
   ],
   "source": [
    "bins = np.linspace(5, 150, 100)\n",
    "plt.subplots(figsize = (16,8))\n",
    "plt.hist(normal_df.purchase_value, bins, alpha=1, normed=True, label='Normal')\n",
    "plt.hist(fraud_df.purchase_value, bins, alpha=0.6, normed=True, label='Fraud')\n",
    "plt.legend(loc='upper right')\n",
    "plt.title(\"Amount by percentage of Purchase Value\")\n",
    "plt.xlabel(\"Purchase Value\")\n",
    "plt.ylabel(\"Percentage of transactions (%)\");\n",
    "plt.show()"
   ]
  },
  {
   "cell_type": "markdown",
   "metadata": {
    "hidden": true
   },
   "source": [
    "From above bar chart the purchase value amount looks more variable. In the long tail, especially we have less instances to differentiate fraud from normal tansaction by having purchase value alone."
   ]
  },
  {
   "cell_type": "markdown",
   "metadata": {
    "heading_collapsed": true,
    "hidden": true
   },
   "source": [
    "#### Month based Fraud-Normal Visualization"
   ]
  },
  {
   "cell_type": "code",
   "execution_count": 86,
   "metadata": {
    "hidden": true
   },
   "outputs": [
    {
     "data": {
      "image/png": "[encoded data removed]",
      "text/plain": [
       "<Figure size 1152x576 with 1 Axes>"
      ]
     },
     "metadata": {
      "needs_background": "light"
     },
     "output_type": "display_data"
    }
   ],
   "source": [
    "normal_df['purchase_dates'] = normal_df['purchase_dates'].astype('datetime64[ns]')\n",
    "fraud_df['purchase_dates'] = fraud_df['purchase_dates'].astype('datetime64[ns]')\n",
    "time_series = pd.DataFrame(normal_df['purchase_dates'].value_counts().sort_index())\n",
    "time_series2 = pd.DataFrame(fraud_df['purchase_dates'].value_counts().sort_index())\n",
    "fig, ax = plt.subplots(figsize = (16,8))\n",
    "time_series.loc[:'2015-12-16'].plot(ax = ax,label='continuous')\n",
    "time_series.rolling(window=7).mean().plot(ax = ax, linewidth = 2,color = \"brown\",label='continuous')\n",
    "time_series2.loc[:'2015-12-16'].plot(ax = ax,label='continuous')\n",
    "time_series2.rolling(window=7).mean().plot(ax = ax, linewidth = 2,color = 'k',label='continuous')\n",
    "ax.margins(None,0.1)\n",
    "ax.legend(['Normal_Transactions','Rolling_7_Normal','Fraud_Transactions','Rolling_7_Fraud'], loc = 'upper right', numpoints = 3)\n",
    "ax.set_xlabel('Month')\n",
    "ax.set_ylabel('No of Transactions')\n",
    "ax.set_facecolor('white')"
   ]
  },
  {
   "cell_type": "markdown",
   "metadata": {
    "hidden": true
   },
   "source": [
    "From the above timeseries, the trend for fraudlent activities seems to be varying depending on the month. This may be one of the most contributing feature to the classifier."
   ]
  },
  {
   "cell_type": "markdown",
   "metadata": {
    "heading_collapsed": true,
    "hidden": true
   },
   "source": [
    "#### Hour of the day Fraud-Normal Visualization"
   ]
  },
  {
   "cell_type": "code",
   "execution_count": 87,
   "metadata": {
    "hidden": true
   },
   "outputs": [
    {
     "data": {
      "image/png": "[encoded data removed]",
      "text/plain": [
       "<Figure size 1152x576 with 1 Axes>"
      ]
     },
     "metadata": {
      "needs_background": "light"
     },
     "output_type": "display_data"
    }
   ],
   "source": [
    "normal_df[['h','m','s']] = normal_df['purchase_t'].astype(str).str.split(':', expand=True).astype(int)\n",
    "fraud_df[['h','m','s']] = fraud_df['purchase_t'].astype(str).str.split(':', expand=True).astype(int)\n",
    "time_series = pd.DataFrame(normal_df['h'].value_counts().sort_index())\n",
    "time_series2 = pd.DataFrame(fraud_df['h'].value_counts().sort_index())\n",
    "fig, ax = plt.subplots(figsize = (16,8))\n",
    "time_series.loc[:].plot(ax = ax,label='continuous')\n",
    "time_series2.loc[:].plot(ax = ax,label='continuous')\n",
    "ax.margins(None,0.1)\n",
    "ax.xaxis.set_ticks(np.arange(0, 24, 1))\n",
    "ax.legend(['Normal_Transactions','Fraud_Transactions'], loc = 'upper right', numpoints = 3)\n",
    "ax.set_xlabel('Hour of day')\n",
    "ax.set_ylabel('No of Transactions')\n",
    "ax.set_facecolor('white')"
   ]
  },
  {
   "cell_type": "code",
   "execution_count": 64,
   "metadata": {
    "hidden": true
   },
   "outputs": [
    {
     "data": {
      "image/png": "[encoded data removed]",
      "text/plain": [
       "<Figure size 1152x576 with 1 Axes>"
      ]
     },
     "metadata": {
      "needs_background": "light"
     },
     "output_type": "display_data"
    }
   ],
   "source": [
    "time_series2 = pd.DataFrame(fraud_df['h'].value_counts().sort_index())\n",
    "fig, ax = plt.subplots(figsize = (16,8))\n",
    "#time_series.loc[:].plot(ax = ax,label='continuous')\n",
    "time_series2.loc[:].plot(ax = ax,label='continuous')\n",
    "ax.margins(None,0.1)\n",
    "ax.xaxis.set_ticks(np.arange(0, 24, 1))\n",
    "ax.legend(['Fraud_Transactions'], loc = 'upper right', numpoints = 3)\n",
    "ax.set_xlabel('Hour of day')\n",
    "ax.set_ylabel('No of Transactions')\n",
    "ax.set_facecolor('white')"
   ]
  },
  {
   "cell_type": "code",
   "execution_count": 66,
   "metadata": {
    "hidden": true
   },
   "outputs": [
    {
     "data": {
      "image/png": "[encoded data removed]",
      "text/plain": [
       "<Figure size 1152x576 with 1 Axes>"
      ]
     },
     "metadata": {
      "needs_background": "light"
     },
     "output_type": "display_data"
    }
   ],
   "source": [
    "fig, ax = plt.subplots(figsize = (16,8))\n",
    "time_series.loc[:].plot(ax = ax,label='continuous')\n",
    "#time_series2.loc[:].plot(ax = ax,label='continuous')\n",
    "ax.margins(None,0.1)\n",
    "ax.xaxis.set_ticks(np.arange(0, 24, 1))\n",
    "ax.legend(['Fraud_Transactions'], loc = 'upper right', numpoints = 3)\n",
    "ax.set_xlabel('Hour of day')\n",
    "ax.set_ylabel('No of Transactions')\n",
    "ax.set_facecolor('white')"
   ]
  },
  {
   "cell_type": "markdown",
   "metadata": {
    "hidden": true
   },
   "source": [
    "Hour \"zero\" corresponds to the 12am and  \"23\" to 11pm. From the above visulaizations, 7 to 11 and 16 to 18 seems to be peak time when fraud tends to occur at higher rates. However, this might be one of the features to classify the transactions, but may not be the one that contributes to the model most."
   ]
  },
  {
   "cell_type": "markdown",
   "metadata": {
    "heading_collapsed": true,
    "hidden": true
   },
   "source": [
    "#### Gender Based Visualization"
   ]
  },
  {
   "cell_type": "code",
   "execution_count": 75,
   "metadata": {
    "hidden": true
   },
   "outputs": [
    {
     "data": {
      "image/png": "[encoded data removed]",
      "text/plain": [
       "<Figure size 1008x576 with 1 Axes>"
      ]
     },
     "metadata": {
      "needs_background": "light"
     },
     "output_type": "display_data"
    }
   ],
   "source": [
    "ax = df.groupby(['sex','class'])['class'].count().unstack(0).plot.bar(title=\"Gender Demographics\", figsize=(14,8))\n",
    "_ = ax.set_xlabel('Class')\n",
    "_ = ax.set_ylabel('Count')"
   ]
  },
  {
   "cell_type": "markdown",
   "metadata": {
    "heading_collapsed": true,
    "hidden": true
   },
   "source": [
    "#### Age Group Visualiztion"
   ]
  },
  {
   "cell_type": "code",
   "execution_count": 79,
   "metadata": {
    "hidden": true
   },
   "outputs": [],
   "source": [
    "def age_form(dl):\n",
    "    if 18< dl < 25: return 'Youth'\n",
    "    elif 25 <= dl <= 40: return 'Adults'\n",
    "    elif 41 < dl <= 64: return 'Middle Age'\n",
    "    elif dl > 64: return 'Old'\n",
    "    else: return 'None'\n",
    "\n",
    "df[\"age_group\"] = df['age'].map(age_form)"
   ]
  },
  {
   "cell_type": "code",
   "execution_count": 81,
   "metadata": {
    "hidden": true
   },
   "outputs": [
    {
     "data": {
      "image/png": "[encoded data removed]",
      "text/plain": [
       "<Figure size 1008x576 with 1 Axes>"
      ]
     },
     "metadata": {
      "needs_background": "light"
     },
     "output_type": "display_data"
    }
   ],
   "source": [
    "ax = df.groupby(['age_group','class'])['class'].count().unstack(0).plot.bar(title=\"Age Demographics\", figsize=(14,8))\n",
    "_ = ax.set_xlabel('Class')\n",
    "_ = ax.set_ylabel('Count')"
   ]
  },
  {
   "cell_type": "markdown",
   "metadata": {
    "hidden": true
   },
   "source": [
    "Mostly adults from age 25 to 41 are involved in such activities. This seems to be a potential feature that can contribute as a feture for model. Assumptions are also applied as a pesron may not give his exact age but a range will essentially help in capturing information through this."
   ]
  },
  {
   "cell_type": "markdown",
   "metadata": {
    "heading_collapsed": true,
    "hidden": true
   },
   "source": [
    "#### Browser Type Visualization</h4>"
   ]
  },
  {
   "cell_type": "code",
   "execution_count": 83,
   "metadata": {
    "hidden": true
   },
   "outputs": [
    {
     "data": {
      "image/png": "[encoded data removed]",
      "text/plain": [
       "<Figure size 1008x576 with 1 Axes>"
      ]
     },
     "metadata": {
      "needs_background": "light"
     },
     "output_type": "display_data"
    }
   ],
   "source": [
    "ax = df.groupby(['browser','class'])['class'].count().unstack(0).plot.bar(title=\"Browser Type\", figsize=(14,8))\n",
    "_ = ax.set_xlabel('Class')\n",
    "_ = ax.set_ylabel('Count')"
   ]
  },
  {
   "cell_type": "markdown",
   "metadata": {
    "heading_collapsed": true,
    "hidden": true
   },
   "source": [
    "#### Weeks Difference between Signup and Purchase Visualization"
   ]
  },
  {
   "cell_type": "code",
   "execution_count": 88,
   "metadata": {
    "hidden": true
   },
   "outputs": [
    {
     "data": {
      "text/plain": [
       "Text(0,0.5,'Count')"
      ]
     },
     "execution_count": 88,
     "metadata": {},
     "output_type": "execute_result"
    },
    {
     "data": {
      "image/png": "[encoded data removed]",
      "text/plain": [
       "<Figure size 1152x576 with 1 Axes>"
      ]
     },
     "metadata": {
      "needs_background": "light"
     },
     "output_type": "display_data"
    }
   ],
   "source": [
    "normal_df['purchase_time']=normal_df['purchase_time'].astype('datetime64[ns]')\n",
    "normal_df['signup_time']=normal_df['signup_time'].astype('datetime64[ns]')\n",
    "fraud_df['purchase_time']=fraud_df['purchase_time'].astype('datetime64[ns]')\n",
    "fraud_df['signup_time']=fraud_df['signup_time'].astype('datetime64[ns]')\n",
    "\n",
    "normal_df['td'] = normal_df['purchase_time']-normal_df['signup_time']\n",
    "fraud_df['td'] = fraud_df['purchase_time']-fraud_df['signup_time']\n",
    "normal_df['diff_weeks'] = normal_df['td'].apply(lambda x: round(int(x.days))/7)\n",
    "fraud_df['diff_weeks'] = fraud_df['td'].apply(lambda x: round(int(x.days))/7)\n",
    "time_series = pd.DataFrame(normal_df['diff_weeks'].value_counts().sort_index())\n",
    "time_series2 = pd.DataFrame(fraud_df['diff_weeks'].value_counts().sort_index())\n",
    "fig, ax = plt.subplots(figsize = (16,8))\n",
    "time_series.loc[:].plot(ax = ax,label='continuous')\n",
    "time_series2.loc[:].plot(ax = ax,label='continuous')\n",
    "ax.margins(None,0.1)\n",
    "#ax.xaxis.set_ticks(np.arange(0, 24, 1))\n",
    "ax.legend(['Normal_Transactions','Fraud_Transactions'], loc = 'upper right', numpoints = 3)\n",
    "ax.set_xlabel('Weeks Difference between Signup and Purchase')\n",
    "ax.set_ylabel('Count')\n",
    "#ax.set_facecolor('white')"
   ]
  },
  {
   "cell_type": "markdown",
   "metadata": {
    "hidden": true
   },
   "source": [
    "This visualzation depicts the difference between signup and purchase time. I was assuming the fraudlent actvities should have less then a week of interval i.e. when the hackers create accounts he steals the information immediately and closes the account. But that doesn't seem to be happening here and no pattern is merging out of it. As a result we can ignore this feature. This seems to me as base security layer for all ecommerce companies as duration of account plays important role in defining user's trustability."
   ]
  },
  {
   "cell_type": "markdown",
   "metadata": {
    "heading_collapsed": true,
    "hidden": true
   },
   "source": [
    "#### Country Fraud-Normal Visualization"
   ]
  },
  {
   "cell_type": "code",
   "execution_count": 147,
   "metadata": {
    "hidden": true
   },
   "outputs": [
    {
     "data": {
      "image/png": "[encoded data removed]",
      "text/plain": [
       "<Figure size 1008x576 with 1 Axes>"
      ]
     },
     "metadata": {
      "needs_background": "light"
     },
     "output_type": "display_data"
    }
   ],
   "source": [
    "ax = df.groupby(['country','class'])['class'].count().nlargest(10).unstack(0).plot.bar(title=\"Country\", figsize=(14,8))\n",
    "_ = ax.set_xlabel('Class')\n",
    "_ = ax.set_ylabel('Count')"
   ]
  },
  {
   "cell_type": "markdown",
   "metadata": {
    "hidden": true
   },
   "source": [
    "From the country based fraudlent activites, it seems that all of the ip addresses that belong to fraud activities are associated with Unites States. This may help us in improvind the classifier."
   ]
  },
  {
   "cell_type": "markdown",
   "metadata": {
    "heading_collapsed": true,
    "hidden": true
   },
   "source": [
    "#### IP Address Visualization"
   ]
  },
  {
   "cell_type": "code",
   "execution_count": 104,
   "metadata": {
    "hidden": true
   },
   "outputs": [
    {
     "data": {
      "image/png": "[encoded data removed]",
      "text/plain": [
       "<Figure size 1008x576 with 1 Axes>"
      ]
     },
     "metadata": {
      "needs_background": "light"
     },
     "output_type": "display_data"
    }
   ],
   "source": [
    "ax = df.groupby(['ip_address','class'])['class'].count().nlargest(10).unstack(0).plot.bar(title=\"Ip_address Used\", figsize=(14,8))\n",
    "_ = ax.set_xlabel('Class')\n",
    "_ = ax.set_ylabel('Count')"
   ]
  },
  {
   "cell_type": "markdown",
   "metadata": {
    "hidden": true
   },
   "source": [
    "I am skeptical about i to be used as feature as IP address can be changed anytime and attack can be launched from randomly generated addresses. Also, Ip addresss can tell us about country origin and will essentially have same information."
   ]
  },
  {
   "cell_type": "markdown",
   "metadata": {
    "heading_collapsed": true,
    "hidden": true
   },
   "source": [
    "#### Source Type Visualization"
   ]
  },
  {
   "cell_type": "code",
   "execution_count": 118,
   "metadata": {
    "hidden": true
   },
   "outputs": [
    {
     "data": {
      "image/png": "[encoded data removed]",
      "text/plain": [
       "<Figure size 1008x576 with 1 Axes>"
      ]
     },
     "metadata": {
      "needs_background": "light"
     },
     "output_type": "display_data"
    }
   ],
   "source": [
    "ax = df.groupby(['source','class'])['class'].count().nlargest(10).unstack(0).plot.bar(title=\"Source Type\", figsize=(14,8))\n",
    "_ = ax.set_xlabel('Class')\n",
    "_ = ax.set_ylabel('Count')"
   ]
  },
  {
   "cell_type": "markdown",
   "metadata": {
    "hidden": true
   },
   "source": [
    "The source type doesn't seem to give us any information, but still we will keep it as feature."
   ]
  },
  {
   "cell_type": "markdown",
   "metadata": {
    "heading_collapsed": true,
    "hidden": true
   },
   "source": [
    "#### Correlation Plot"
   ]
  },
  {
   "cell_type": "code",
   "execution_count": 455,
   "metadata": {
    "hidden": true
   },
   "outputs": [
    {
     "data": {
      "text/plain": [
       "<matplotlib.axes._subplots.AxesSubplot at 0x7f448fc85390>"
      ]
     },
     "execution_count": 455,
     "metadata": {},
     "output_type": "execute_result"
    },
    {
     "data": {
      "image/png": "[encoded data removed]",
      "text/plain": [
       "<Figure size 432x432 with 2 Axes>"
      ]
     },
     "metadata": {
      "needs_background": "light"
     },
     "output_type": "display_data"
    }
   ],
   "source": [
    "corr = df.corr()\n",
    "plt.figure(figsize=(6, 6))\n",
    "\n",
    "sns.heatmap(corr, \n",
    "            xticklabels=corr.columns.values,\n",
    "            yticklabels=corr.columns.values)\n"
   ]
  },
  {
   "cell_type": "markdown",
   "metadata": {
    "hidden": true
   },
   "source": [
    "There seems to be no coorelation between the features."
   ]
  },
  {
   "cell_type": "markdown",
   "metadata": {
    "heading_collapsed": true
   },
   "source": [
    "###  Data Preprocessing"
   ]
  },
  {
   "cell_type": "markdown",
   "metadata": {
    "hidden": true
   },
   "source": [
    "<br>\n",
    "<h5>From the above analysis, we do have infered some potential features for classifying the fraudlent activities.</h5><br>\n",
    "<b>To summarize, from preliminary analysis features to be considered are</b><br>\n",
    "    1) country<br>\n",
    "    2) Purchase value<br>\n",
    "    3) Age Group<br>\n",
    "    4) Gender<br>\n",
    "    5) Hour of the day<br>\n",
    "    6) Month of transaction<br>\n",
    "    7) Source Type<br>"
   ]
  },
  {
   "cell_type": "code",
   "execution_count": 114,
   "metadata": {
    "hidden": true
   },
   "outputs": [
    {
     "data": {
      "text/html": [
       "<div>\n",
       "<style scoped>\n",
       "    .dataframe tbody tr th:only-of-type {\n",
       "        vertical-align: middle;\n",
       "    }\n",
       "\n",
       "    .dataframe tbody tr th {\n",
       "        vertical-align: top;\n",
       "    }\n",
       "\n",
       "    .dataframe thead th {\n",
       "        text-align: right;\n",
       "    }\n",
       "</style>\n",
       "<table border=\"1\" class=\"dataframe\">\n",
       "  <thead>\n",
       "    <tr style=\"text-align: right;\">\n",
       "      <th></th>\n",
       "      <th>Unnamed: 0</th>\n",
       "      <th>user_id</th>\n",
       "      <th>signup_time</th>\n",
       "      <th>purchase_time</th>\n",
       "      <th>purchase_value</th>\n",
       "      <th>device_id</th>\n",
       "      <th>source</th>\n",
       "      <th>browser</th>\n",
       "      <th>sex</th>\n",
       "      <th>age</th>\n",
       "      <th>ip_address</th>\n",
       "      <th>class</th>\n",
       "      <th>country</th>\n",
       "      <th>purchase_dates</th>\n",
       "      <th>purchase_t</th>\n",
       "      <th>age_group</th>\n",
       "      <th>purchase_hour</th>\n",
       "    </tr>\n",
       "  </thead>\n",
       "  <tbody>\n",
       "    <tr>\n",
       "      <th>0</th>\n",
       "      <td>149671</td>\n",
       "      <td>285108</td>\n",
       "      <td>2015-07-15 04:36:55</td>\n",
       "      <td>2015-09-10 14:17:56</td>\n",
       "      <td>31</td>\n",
       "      <td>HZAKVUFTDOSFD</td>\n",
       "      <td>Direct</td>\n",
       "      <td>Chrome</td>\n",
       "      <td>M</td>\n",
       "      <td>49</td>\n",
       "      <td>2818400139</td>\n",
       "      <td>0</td>\n",
       "      <td></td>\n",
       "      <td>2015-09-10</td>\n",
       "      <td>14:17:56</td>\n",
       "      <td>Middle Age</td>\n",
       "      <td>14</td>\n",
       "    </tr>\n",
       "    <tr>\n",
       "      <th>1</th>\n",
       "      <td>15611</td>\n",
       "      <td>131009</td>\n",
       "      <td>2015-01-24 12:29:58</td>\n",
       "      <td>2015-04-13 04:53:55</td>\n",
       "      <td>31</td>\n",
       "      <td>XGQAJSOUJIZCC</td>\n",
       "      <td>SEO</td>\n",
       "      <td>IE</td>\n",
       "      <td>F</td>\n",
       "      <td>21</td>\n",
       "      <td>3251268287</td>\n",
       "      <td>0</td>\n",
       "      <td>United Kingdom</td>\n",
       "      <td>2015-04-13</td>\n",
       "      <td>04:53:55</td>\n",
       "      <td>Youth</td>\n",
       "      <td>4</td>\n",
       "    </tr>\n",
       "    <tr>\n",
       "      <th>2</th>\n",
       "      <td>73178</td>\n",
       "      <td>328855</td>\n",
       "      <td>2015-03-11 00:54:12</td>\n",
       "      <td>2015-04-05 12:23:49</td>\n",
       "      <td>16</td>\n",
       "      <td>VCCTAYDCWKZIY</td>\n",
       "      <td>Direct</td>\n",
       "      <td>IE</td>\n",
       "      <td>M</td>\n",
       "      <td>26</td>\n",
       "      <td>2727760440</td>\n",
       "      <td>0</td>\n",
       "      <td>United States</td>\n",
       "      <td>2015-04-05</td>\n",
       "      <td>12:23:49</td>\n",
       "      <td>Adults</td>\n",
       "      <td>12</td>\n",
       "    </tr>\n",
       "    <tr>\n",
       "      <th>3</th>\n",
       "      <td>84546</td>\n",
       "      <td>229053</td>\n",
       "      <td>2015-01-07 13:19:17</td>\n",
       "      <td>2015-01-09 10:12:06</td>\n",
       "      <td>29</td>\n",
       "      <td>MFFIHYNXCJLEY</td>\n",
       "      <td>SEO</td>\n",
       "      <td>Chrome</td>\n",
       "      <td>M</td>\n",
       "      <td>34</td>\n",
       "      <td>2083419525</td>\n",
       "      <td>0</td>\n",
       "      <td>Korea Republic of</td>\n",
       "      <td>2015-01-09</td>\n",
       "      <td>10:12:06</td>\n",
       "      <td>Adults</td>\n",
       "      <td>10</td>\n",
       "    </tr>\n",
       "    <tr>\n",
       "      <th>4</th>\n",
       "      <td>35978</td>\n",
       "      <td>108439</td>\n",
       "      <td>2015-02-08 21:11:04</td>\n",
       "      <td>2015-04-09 14:26:10</td>\n",
       "      <td>26</td>\n",
       "      <td>WMSXWGVPNIFBM</td>\n",
       "      <td>Ads</td>\n",
       "      <td>FireFox</td>\n",
       "      <td>M</td>\n",
       "      <td>33</td>\n",
       "      <td>3207912663</td>\n",
       "      <td>0</td>\n",
       "      <td>Brazil</td>\n",
       "      <td>2015-04-09</td>\n",
       "      <td>14:26:10</td>\n",
       "      <td>Adults</td>\n",
       "      <td>14</td>\n",
       "    </tr>\n",
       "  </tbody>\n",
       "</table>\n",
       "</div>"
      ],
      "text/plain": [
       "   Unnamed: 0  user_id          signup_time        purchase_time  \\\n",
       "0      149671   285108  2015-07-15 04:36:55  2015-09-10 14:17:56   \n",
       "1       15611   131009  2015-01-24 12:29:58  2015-04-13 04:53:55   \n",
       "2       73178   328855  2015-03-11 00:54:12  2015-04-05 12:23:49   \n",
       "3       84546   229053  2015-01-07 13:19:17  2015-01-09 10:12:06   \n",
       "4       35978   108439  2015-02-08 21:11:04  2015-04-09 14:26:10   \n",
       "\n",
       "   purchase_value      device_id  source  browser sex  age  ip_address  class  \\\n",
       "0              31  HZAKVUFTDOSFD  Direct   Chrome   M   49  2818400139      0   \n",
       "1              31  XGQAJSOUJIZCC     SEO       IE   F   21  3251268287      0   \n",
       "2              16  VCCTAYDCWKZIY  Direct       IE   M   26  2727760440      0   \n",
       "3              29  MFFIHYNXCJLEY     SEO   Chrome   M   34  2083419525      0   \n",
       "4              26  WMSXWGVPNIFBM     Ads  FireFox   M   33  3207912663      0   \n",
       "\n",
       "             country purchase_dates purchase_t   age_group  purchase_hour  \n",
       "0                        2015-09-10   14:17:56  Middle Age             14  \n",
       "1     United Kingdom     2015-04-13   04:53:55       Youth              4  \n",
       "2      United States     2015-04-05   12:23:49      Adults             12  \n",
       "3  Korea Republic of     2015-01-09   10:12:06      Adults             10  \n",
       "4             Brazil     2015-04-09   14:26:10      Adults             14  "
      ]
     },
     "execution_count": 114,
     "metadata": {},
     "output_type": "execute_result"
    }
   ],
   "source": [
    "df[['purchase_hour','m','s']] = df['purchase_t'].astype(str).str.split(':', expand=True).astype(int)\n",
    "#Adding feature for which hour of the day product was brought\n",
    "del df['m']\n",
    "del df['s']\n",
    "df.head()"
   ]
  },
  {
   "cell_type": "code",
   "execution_count": 458,
   "metadata": {
    "hidden": true
   },
   "outputs": [],
   "source": [
    "df[['m','purchase_month','s']] = df['purchase_dates'].astype(str).str.split('-', expand=True).astype(int)\n",
    "#Adding feature for which month product was brought\n",
    "del df['m']\n",
    "del df['s']"
   ]
  },
  {
   "cell_type": "code",
   "execution_count": 144,
   "metadata": {
    "hidden": true
   },
   "outputs": [
    {
     "data": {
      "text/html": [
       "<div>\n",
       "<style scoped>\n",
       "    .dataframe tbody tr th:only-of-type {\n",
       "        vertical-align: middle;\n",
       "    }\n",
       "\n",
       "    .dataframe tbody tr th {\n",
       "        vertical-align: top;\n",
       "    }\n",
       "\n",
       "    .dataframe thead th {\n",
       "        text-align: right;\n",
       "    }\n",
       "</style>\n",
       "<table border=\"1\" class=\"dataframe\">\n",
       "  <thead>\n",
       "    <tr style=\"text-align: right;\">\n",
       "      <th></th>\n",
       "      <th>Unnamed: 0</th>\n",
       "      <th>user_id</th>\n",
       "      <th>signup_time</th>\n",
       "      <th>purchase_time</th>\n",
       "      <th>purchase_value</th>\n",
       "      <th>device_id</th>\n",
       "      <th>source</th>\n",
       "      <th>browser</th>\n",
       "      <th>sex</th>\n",
       "      <th>age</th>\n",
       "      <th>ip_address</th>\n",
       "      <th>class</th>\n",
       "      <th>country</th>\n",
       "      <th>purchase_dates</th>\n",
       "      <th>purchase_t</th>\n",
       "      <th>age_group</th>\n",
       "      <th>purchase_hour</th>\n",
       "      <th>purchase_month</th>\n",
       "    </tr>\n",
       "  </thead>\n",
       "  <tbody>\n",
       "    <tr>\n",
       "      <th>0</th>\n",
       "      <td>149671</td>\n",
       "      <td>285108</td>\n",
       "      <td>2015-07-15 04:36:55</td>\n",
       "      <td>2015-09-10 14:17:56</td>\n",
       "      <td>31</td>\n",
       "      <td>HZAKVUFTDOSFD</td>\n",
       "      <td>Direct</td>\n",
       "      <td>Chrome</td>\n",
       "      <td>M</td>\n",
       "      <td>49</td>\n",
       "      <td>2818400139</td>\n",
       "      <td>0</td>\n",
       "      <td>United States</td>\n",
       "      <td>2015-09-10</td>\n",
       "      <td>14:17:56</td>\n",
       "      <td>Middle Age</td>\n",
       "      <td>14</td>\n",
       "      <td>9</td>\n",
       "    </tr>\n",
       "    <tr>\n",
       "      <th>1</th>\n",
       "      <td>15611</td>\n",
       "      <td>131009</td>\n",
       "      <td>2015-01-24 12:29:58</td>\n",
       "      <td>2015-04-13 04:53:55</td>\n",
       "      <td>31</td>\n",
       "      <td>XGQAJSOUJIZCC</td>\n",
       "      <td>SEO</td>\n",
       "      <td>IE</td>\n",
       "      <td>F</td>\n",
       "      <td>21</td>\n",
       "      <td>3251268287</td>\n",
       "      <td>0</td>\n",
       "      <td>United Kingdom</td>\n",
       "      <td>2015-04-13</td>\n",
       "      <td>04:53:55</td>\n",
       "      <td>Youth</td>\n",
       "      <td>4</td>\n",
       "      <td>4</td>\n",
       "    </tr>\n",
       "    <tr>\n",
       "      <th>2</th>\n",
       "      <td>73178</td>\n",
       "      <td>328855</td>\n",
       "      <td>2015-03-11 00:54:12</td>\n",
       "      <td>2015-04-05 12:23:49</td>\n",
       "      <td>16</td>\n",
       "      <td>VCCTAYDCWKZIY</td>\n",
       "      <td>Direct</td>\n",
       "      <td>IE</td>\n",
       "      <td>M</td>\n",
       "      <td>26</td>\n",
       "      <td>2727760440</td>\n",
       "      <td>0</td>\n",
       "      <td>United States</td>\n",
       "      <td>2015-04-05</td>\n",
       "      <td>12:23:49</td>\n",
       "      <td>Adults</td>\n",
       "      <td>12</td>\n",
       "      <td>4</td>\n",
       "    </tr>\n",
       "    <tr>\n",
       "      <th>3</th>\n",
       "      <td>84546</td>\n",
       "      <td>229053</td>\n",
       "      <td>2015-01-07 13:19:17</td>\n",
       "      <td>2015-01-09 10:12:06</td>\n",
       "      <td>29</td>\n",
       "      <td>MFFIHYNXCJLEY</td>\n",
       "      <td>SEO</td>\n",
       "      <td>Chrome</td>\n",
       "      <td>M</td>\n",
       "      <td>34</td>\n",
       "      <td>2083419525</td>\n",
       "      <td>0</td>\n",
       "      <td>Korea Republic of</td>\n",
       "      <td>2015-01-09</td>\n",
       "      <td>10:12:06</td>\n",
       "      <td>Adults</td>\n",
       "      <td>10</td>\n",
       "      <td>1</td>\n",
       "    </tr>\n",
       "    <tr>\n",
       "      <th>4</th>\n",
       "      <td>35978</td>\n",
       "      <td>108439</td>\n",
       "      <td>2015-02-08 21:11:04</td>\n",
       "      <td>2015-04-09 14:26:10</td>\n",
       "      <td>26</td>\n",
       "      <td>WMSXWGVPNIFBM</td>\n",
       "      <td>Ads</td>\n",
       "      <td>FireFox</td>\n",
       "      <td>M</td>\n",
       "      <td>33</td>\n",
       "      <td>3207912663</td>\n",
       "      <td>0</td>\n",
       "      <td>Brazil</td>\n",
       "      <td>2015-04-09</td>\n",
       "      <td>14:26:10</td>\n",
       "      <td>Adults</td>\n",
       "      <td>14</td>\n",
       "      <td>4</td>\n",
       "    </tr>\n",
       "    <tr>\n",
       "      <th>5</th>\n",
       "      <td>103053</td>\n",
       "      <td>178528</td>\n",
       "      <td>2015-04-20 20:19:35</td>\n",
       "      <td>2015-08-03 20:17:47</td>\n",
       "      <td>35</td>\n",
       "      <td>HUFZWLDYJPRCK</td>\n",
       "      <td>SEO</td>\n",
       "      <td>Chrome</td>\n",
       "      <td>F</td>\n",
       "      <td>30</td>\n",
       "      <td>2550203819</td>\n",
       "      <td>0</td>\n",
       "      <td>United States</td>\n",
       "      <td>2015-08-03</td>\n",
       "      <td>20:17:47</td>\n",
       "      <td>Adults</td>\n",
       "      <td>20</td>\n",
       "      <td>8</td>\n",
       "    </tr>\n",
       "    <tr>\n",
       "      <th>6</th>\n",
       "      <td>71773</td>\n",
       "      <td>323775</td>\n",
       "      <td>2015-06-30 07:34:31</td>\n",
       "      <td>2015-09-05 16:59:33</td>\n",
       "      <td>28</td>\n",
       "      <td>DLOOEWQCUQRKZ</td>\n",
       "      <td>SEO</td>\n",
       "      <td>Safari</td>\n",
       "      <td>M</td>\n",
       "      <td>47</td>\n",
       "      <td>4075993923</td>\n",
       "      <td>0</td>\n",
       "      <td>None</td>\n",
       "      <td>2015-09-05</td>\n",
       "      <td>16:59:33</td>\n",
       "      <td>Middle Age</td>\n",
       "      <td>16</td>\n",
       "      <td>9</td>\n",
       "    </tr>\n",
       "    <tr>\n",
       "      <th>7</th>\n",
       "      <td>143439</td>\n",
       "      <td>69189</td>\n",
       "      <td>2015-03-10 01:53:23</td>\n",
       "      <td>2015-06-30 17:37:02</td>\n",
       "      <td>21</td>\n",
       "      <td>NRJPZDBHXNQJG</td>\n",
       "      <td>SEO</td>\n",
       "      <td>FireFox</td>\n",
       "      <td>F</td>\n",
       "      <td>47</td>\n",
       "      <td>2753449046</td>\n",
       "      <td>0</td>\n",
       "      <td>Germany</td>\n",
       "      <td>2015-06-30</td>\n",
       "      <td>17:37:02</td>\n",
       "      <td>Middle Age</td>\n",
       "      <td>17</td>\n",
       "      <td>6</td>\n",
       "    </tr>\n",
       "    <tr>\n",
       "      <th>8</th>\n",
       "      <td>101025</td>\n",
       "      <td>70424</td>\n",
       "      <td>2015-07-05 16:54:42</td>\n",
       "      <td>2015-08-25 16:08:56</td>\n",
       "      <td>43</td>\n",
       "      <td>YDLNPVEWMTMMZ</td>\n",
       "      <td>Direct</td>\n",
       "      <td>IE</td>\n",
       "      <td>M</td>\n",
       "      <td>40</td>\n",
       "      <td>3310808206</td>\n",
       "      <td>0</td>\n",
       "      <td>South Africa</td>\n",
       "      <td>2015-08-25</td>\n",
       "      <td>16:08:56</td>\n",
       "      <td>Adults</td>\n",
       "      <td>16</td>\n",
       "      <td>8</td>\n",
       "    </tr>\n",
       "    <tr>\n",
       "      <th>9</th>\n",
       "      <td>63154</td>\n",
       "      <td>328496</td>\n",
       "      <td>2015-07-23 12:48:07</td>\n",
       "      <td>2015-10-20 13:01:20</td>\n",
       "      <td>40</td>\n",
       "      <td>HTOCRWCBYIQJI</td>\n",
       "      <td>Ads</td>\n",
       "      <td>Safari</td>\n",
       "      <td>M</td>\n",
       "      <td>33</td>\n",
       "      <td>2185371169</td>\n",
       "      <td>0</td>\n",
       "      <td>France</td>\n",
       "      <td>2015-10-20</td>\n",
       "      <td>13:01:20</td>\n",
       "      <td>Adults</td>\n",
       "      <td>13</td>\n",
       "      <td>10</td>\n",
       "    </tr>\n",
       "  </tbody>\n",
       "</table>\n",
       "</div>"
      ],
      "text/plain": [
       "   Unnamed: 0  user_id          signup_time        purchase_time  \\\n",
       "0      149671   285108  2015-07-15 04:36:55  2015-09-10 14:17:56   \n",
       "1       15611   131009  2015-01-24 12:29:58  2015-04-13 04:53:55   \n",
       "2       73178   328855  2015-03-11 00:54:12  2015-04-05 12:23:49   \n",
       "3       84546   229053  2015-01-07 13:19:17  2015-01-09 10:12:06   \n",
       "4       35978   108439  2015-02-08 21:11:04  2015-04-09 14:26:10   \n",
       "5      103053   178528  2015-04-20 20:19:35  2015-08-03 20:17:47   \n",
       "6       71773   323775  2015-06-30 07:34:31  2015-09-05 16:59:33   \n",
       "7      143439    69189  2015-03-10 01:53:23  2015-06-30 17:37:02   \n",
       "8      101025    70424  2015-07-05 16:54:42  2015-08-25 16:08:56   \n",
       "9       63154   328496  2015-07-23 12:48:07  2015-10-20 13:01:20   \n",
       "\n",
       "   purchase_value      device_id  source  browser sex  age  ip_address  class  \\\n",
       "0              31  HZAKVUFTDOSFD  Direct   Chrome   M   49  2818400139      0   \n",
       "1              31  XGQAJSOUJIZCC     SEO       IE   F   21  3251268287      0   \n",
       "2              16  VCCTAYDCWKZIY  Direct       IE   M   26  2727760440      0   \n",
       "3              29  MFFIHYNXCJLEY     SEO   Chrome   M   34  2083419525      0   \n",
       "4              26  WMSXWGVPNIFBM     Ads  FireFox   M   33  3207912663      0   \n",
       "5              35  HUFZWLDYJPRCK     SEO   Chrome   F   30  2550203819      0   \n",
       "6              28  DLOOEWQCUQRKZ     SEO   Safari   M   47  4075993923      0   \n",
       "7              21  NRJPZDBHXNQJG     SEO  FireFox   F   47  2753449046      0   \n",
       "8              43  YDLNPVEWMTMMZ  Direct       IE   M   40  3310808206      0   \n",
       "9              40  HTOCRWCBYIQJI     Ads   Safari   M   33  2185371169      0   \n",
       "\n",
       "             country purchase_dates purchase_t   age_group  purchase_hour  \\\n",
       "0      United States     2015-09-10   14:17:56  Middle Age             14   \n",
       "1     United Kingdom     2015-04-13   04:53:55       Youth              4   \n",
       "2      United States     2015-04-05   12:23:49      Adults             12   \n",
       "3  Korea Republic of     2015-01-09   10:12:06      Adults             10   \n",
       "4             Brazil     2015-04-09   14:26:10      Adults             14   \n",
       "5      United States     2015-08-03   20:17:47      Adults             20   \n",
       "6               None     2015-09-05   16:59:33  Middle Age             16   \n",
       "7            Germany     2015-06-30   17:37:02  Middle Age             17   \n",
       "8       South Africa     2015-08-25   16:08:56      Adults             16   \n",
       "9             France     2015-10-20   13:01:20      Adults             13   \n",
       "\n",
       "   purchase_month  \n",
       "0               9  \n",
       "1               4  \n",
       "2               4  \n",
       "3               1  \n",
       "4               4  \n",
       "5               8  \n",
       "6               9  \n",
       "7               6  \n",
       "8               8  \n",
       "9              10  "
      ]
     },
     "execution_count": 144,
     "metadata": {},
     "output_type": "execute_result"
    }
   ],
   "source": [
    "df.head(10)"
   ]
  },
  {
   "cell_type": "code",
   "execution_count": 360,
   "metadata": {
    "hidden": true
   },
   "outputs": [],
   "source": [
    "df_new = df.filter(['user_id','purchase_value'\n",
    "                    ,'source','sex','age_group','country','purchase_hour','purchase_month','class'], axis=1)"
   ]
  },
  {
   "cell_type": "code",
   "execution_count": 361,
   "metadata": {
    "hidden": true
   },
   "outputs": [
    {
     "data": {
      "text/html": [
       "<div>\n",
       "<style scoped>\n",
       "    .dataframe tbody tr th:only-of-type {\n",
       "        vertical-align: middle;\n",
       "    }\n",
       "\n",
       "    .dataframe tbody tr th {\n",
       "        vertical-align: top;\n",
       "    }\n",
       "\n",
       "    .dataframe thead th {\n",
       "        text-align: right;\n",
       "    }\n",
       "</style>\n",
       "<table border=\"1\" class=\"dataframe\">\n",
       "  <thead>\n",
       "    <tr style=\"text-align: right;\">\n",
       "      <th></th>\n",
       "      <th>user_id</th>\n",
       "      <th>purchase_value</th>\n",
       "      <th>source</th>\n",
       "      <th>sex</th>\n",
       "      <th>age_group</th>\n",
       "      <th>country</th>\n",
       "      <th>purchase_hour</th>\n",
       "      <th>purchase_month</th>\n",
       "      <th>class</th>\n",
       "    </tr>\n",
       "  </thead>\n",
       "  <tbody>\n",
       "    <tr>\n",
       "      <th>0</th>\n",
       "      <td>285108</td>\n",
       "      <td>31</td>\n",
       "      <td>Direct</td>\n",
       "      <td>M</td>\n",
       "      <td>Middle Age</td>\n",
       "      <td>United States</td>\n",
       "      <td>14</td>\n",
       "      <td>9</td>\n",
       "      <td>0</td>\n",
       "    </tr>\n",
       "    <tr>\n",
       "      <th>1</th>\n",
       "      <td>131009</td>\n",
       "      <td>31</td>\n",
       "      <td>SEO</td>\n",
       "      <td>F</td>\n",
       "      <td>Youth</td>\n",
       "      <td>United Kingdom</td>\n",
       "      <td>4</td>\n",
       "      <td>4</td>\n",
       "      <td>0</td>\n",
       "    </tr>\n",
       "    <tr>\n",
       "      <th>2</th>\n",
       "      <td>328855</td>\n",
       "      <td>16</td>\n",
       "      <td>Direct</td>\n",
       "      <td>M</td>\n",
       "      <td>Adults</td>\n",
       "      <td>United States</td>\n",
       "      <td>12</td>\n",
       "      <td>4</td>\n",
       "      <td>0</td>\n",
       "    </tr>\n",
       "    <tr>\n",
       "      <th>3</th>\n",
       "      <td>229053</td>\n",
       "      <td>29</td>\n",
       "      <td>SEO</td>\n",
       "      <td>M</td>\n",
       "      <td>Adults</td>\n",
       "      <td>Korea Republic of</td>\n",
       "      <td>10</td>\n",
       "      <td>1</td>\n",
       "      <td>0</td>\n",
       "    </tr>\n",
       "    <tr>\n",
       "      <th>4</th>\n",
       "      <td>108439</td>\n",
       "      <td>26</td>\n",
       "      <td>Ads</td>\n",
       "      <td>M</td>\n",
       "      <td>Adults</td>\n",
       "      <td>Brazil</td>\n",
       "      <td>14</td>\n",
       "      <td>4</td>\n",
       "      <td>0</td>\n",
       "    </tr>\n",
       "    <tr>\n",
       "      <th>5</th>\n",
       "      <td>178528</td>\n",
       "      <td>35</td>\n",
       "      <td>SEO</td>\n",
       "      <td>F</td>\n",
       "      <td>Adults</td>\n",
       "      <td>United States</td>\n",
       "      <td>20</td>\n",
       "      <td>8</td>\n",
       "      <td>0</td>\n",
       "    </tr>\n",
       "    <tr>\n",
       "      <th>6</th>\n",
       "      <td>323775</td>\n",
       "      <td>28</td>\n",
       "      <td>SEO</td>\n",
       "      <td>M</td>\n",
       "      <td>Middle Age</td>\n",
       "      <td>None</td>\n",
       "      <td>16</td>\n",
       "      <td>9</td>\n",
       "      <td>0</td>\n",
       "    </tr>\n",
       "    <tr>\n",
       "      <th>7</th>\n",
       "      <td>69189</td>\n",
       "      <td>21</td>\n",
       "      <td>SEO</td>\n",
       "      <td>F</td>\n",
       "      <td>Middle Age</td>\n",
       "      <td>Germany</td>\n",
       "      <td>17</td>\n",
       "      <td>6</td>\n",
       "      <td>0</td>\n",
       "    </tr>\n",
       "    <tr>\n",
       "      <th>8</th>\n",
       "      <td>70424</td>\n",
       "      <td>43</td>\n",
       "      <td>Direct</td>\n",
       "      <td>M</td>\n",
       "      <td>Adults</td>\n",
       "      <td>South Africa</td>\n",
       "      <td>16</td>\n",
       "      <td>8</td>\n",
       "      <td>0</td>\n",
       "    </tr>\n",
       "    <tr>\n",
       "      <th>9</th>\n",
       "      <td>328496</td>\n",
       "      <td>40</td>\n",
       "      <td>Ads</td>\n",
       "      <td>M</td>\n",
       "      <td>Adults</td>\n",
       "      <td>France</td>\n",
       "      <td>13</td>\n",
       "      <td>10</td>\n",
       "      <td>0</td>\n",
       "    </tr>\n",
       "  </tbody>\n",
       "</table>\n",
       "</div>"
      ],
      "text/plain": [
       "   user_id  purchase_value  source sex   age_group            country  \\\n",
       "0   285108              31  Direct   M  Middle Age      United States   \n",
       "1   131009              31     SEO   F       Youth     United Kingdom   \n",
       "2   328855              16  Direct   M      Adults      United States   \n",
       "3   229053              29     SEO   M      Adults  Korea Republic of   \n",
       "4   108439              26     Ads   M      Adults             Brazil   \n",
       "5   178528              35     SEO   F      Adults      United States   \n",
       "6   323775              28     SEO   M  Middle Age               None   \n",
       "7    69189              21     SEO   F  Middle Age            Germany   \n",
       "8    70424              43  Direct   M      Adults       South Africa   \n",
       "9   328496              40     Ads   M      Adults             France   \n",
       "\n",
       "   purchase_hour  purchase_month  class  \n",
       "0             14               9      0  \n",
       "1              4               4      0  \n",
       "2             12               4      0  \n",
       "3             10               1      0  \n",
       "4             14               4      0  \n",
       "5             20               8      0  \n",
       "6             16               9      0  \n",
       "7             17               6      0  \n",
       "8             16               8      0  \n",
       "9             13              10      0  "
      ]
     },
     "execution_count": 361,
     "metadata": {},
     "output_type": "execute_result"
    }
   ],
   "source": [
    "df_new.head(10)"
   ]
  },
  {
   "cell_type": "code",
   "execution_count": 150,
   "metadata": {
    "hidden": true
   },
   "outputs": [
    {
     "data": {
      "text/plain": [
       "user_id           0\n",
       "purchase_value    0\n",
       "source            0\n",
       "sex               0\n",
       "age_group         0\n",
       "country           0\n",
       "purchase_hour     0\n",
       "purchase_month    0\n",
       "class             0\n",
       "dtype: int64"
      ]
     },
     "execution_count": 150,
     "metadata": {},
     "output_type": "execute_result"
    }
   ],
   "source": [
    "df_new.isna().sum()"
   ]
  },
  {
   "cell_type": "markdown",
   "metadata": {
    "hidden": true
   },
   "source": [
    "<h3>Encoding categorical variables</h3><br>\n",
    "To convert categorical data into model-understandable numerical data, we will use One Hot encoding"
   ]
  },
  {
   "cell_type": "code",
   "execution_count": 376,
   "metadata": {
    "hidden": true
   },
   "outputs": [],
   "source": [
    "def OneEncode(original_dataframe):\n",
    "    columnsToEncode = list(df_new.select_dtypes(include=['category','object']))\n",
    "    dummies = pd.get_dummies(df_new[columnsToEncode])\n",
    "    res = pd.concat([original_dataframe, dummies], axis=1)\n",
    "    return(res)"
   ]
  },
  {
   "cell_type": "code",
   "execution_count": 377,
   "metadata": {
    "hidden": true
   },
   "outputs": [
    {
     "data": {
      "text/html": [
       "<div>\n",
       "<style scoped>\n",
       "    .dataframe tbody tr th:only-of-type {\n",
       "        vertical-align: middle;\n",
       "    }\n",
       "\n",
       "    .dataframe tbody tr th {\n",
       "        vertical-align: top;\n",
       "    }\n",
       "\n",
       "    .dataframe thead th {\n",
       "        text-align: right;\n",
       "    }\n",
       "</style>\n",
       "<table border=\"1\" class=\"dataframe\">\n",
       "  <thead>\n",
       "    <tr style=\"text-align: right;\">\n",
       "      <th></th>\n",
       "      <th>user_id</th>\n",
       "      <th>purchase_value</th>\n",
       "      <th>purchase_hour</th>\n",
       "      <th>purchase_month</th>\n",
       "      <th>class</th>\n",
       "      <th>source_Ads</th>\n",
       "      <th>source_Direct</th>\n",
       "      <th>source_SEO</th>\n",
       "      <th>sex_F</th>\n",
       "      <th>sex_M</th>\n",
       "      <th>...</th>\n",
       "      <th>country_United States</th>\n",
       "      <th>country_Uruguay</th>\n",
       "      <th>country_Uzbekistan</th>\n",
       "      <th>country_Vanuatu</th>\n",
       "      <th>country_Venezuela</th>\n",
       "      <th>country_Viet Nam</th>\n",
       "      <th>country_Virgin Islands (U.S.)</th>\n",
       "      <th>country_Yemen</th>\n",
       "      <th>country_Zambia</th>\n",
       "      <th>country_Zimbabwe</th>\n",
       "    </tr>\n",
       "  </thead>\n",
       "  <tbody>\n",
       "    <tr>\n",
       "      <th>0</th>\n",
       "      <td>285108</td>\n",
       "      <td>31</td>\n",
       "      <td>14</td>\n",
       "      <td>9</td>\n",
       "      <td>0</td>\n",
       "      <td>0</td>\n",
       "      <td>1</td>\n",
       "      <td>0</td>\n",
       "      <td>0</td>\n",
       "      <td>1</td>\n",
       "      <td>...</td>\n",
       "      <td>1</td>\n",
       "      <td>0</td>\n",
       "      <td>0</td>\n",
       "      <td>0</td>\n",
       "      <td>0</td>\n",
       "      <td>0</td>\n",
       "      <td>0</td>\n",
       "      <td>0</td>\n",
       "      <td>0</td>\n",
       "      <td>0</td>\n",
       "    </tr>\n",
       "    <tr>\n",
       "      <th>1</th>\n",
       "      <td>131009</td>\n",
       "      <td>31</td>\n",
       "      <td>4</td>\n",
       "      <td>4</td>\n",
       "      <td>0</td>\n",
       "      <td>0</td>\n",
       "      <td>0</td>\n",
       "      <td>1</td>\n",
       "      <td>1</td>\n",
       "      <td>0</td>\n",
       "      <td>...</td>\n",
       "      <td>0</td>\n",
       "      <td>0</td>\n",
       "      <td>0</td>\n",
       "      <td>0</td>\n",
       "      <td>0</td>\n",
       "      <td>0</td>\n",
       "      <td>0</td>\n",
       "      <td>0</td>\n",
       "      <td>0</td>\n",
       "      <td>0</td>\n",
       "    </tr>\n",
       "    <tr>\n",
       "      <th>2</th>\n",
       "      <td>328855</td>\n",
       "      <td>16</td>\n",
       "      <td>12</td>\n",
       "      <td>4</td>\n",
       "      <td>0</td>\n",
       "      <td>0</td>\n",
       "      <td>1</td>\n",
       "      <td>0</td>\n",
       "      <td>0</td>\n",
       "      <td>1</td>\n",
       "      <td>...</td>\n",
       "      <td>1</td>\n",
       "      <td>0</td>\n",
       "      <td>0</td>\n",
       "      <td>0</td>\n",
       "      <td>0</td>\n",
       "      <td>0</td>\n",
       "      <td>0</td>\n",
       "      <td>0</td>\n",
       "      <td>0</td>\n",
       "      <td>0</td>\n",
       "    </tr>\n",
       "    <tr>\n",
       "      <th>3</th>\n",
       "      <td>229053</td>\n",
       "      <td>29</td>\n",
       "      <td>10</td>\n",
       "      <td>1</td>\n",
       "      <td>0</td>\n",
       "      <td>0</td>\n",
       "      <td>0</td>\n",
       "      <td>1</td>\n",
       "      <td>0</td>\n",
       "      <td>1</td>\n",
       "      <td>...</td>\n",
       "      <td>0</td>\n",
       "      <td>0</td>\n",
       "      <td>0</td>\n",
       "      <td>0</td>\n",
       "      <td>0</td>\n",
       "      <td>0</td>\n",
       "      <td>0</td>\n",
       "      <td>0</td>\n",
       "      <td>0</td>\n",
       "      <td>0</td>\n",
       "    </tr>\n",
       "    <tr>\n",
       "      <th>4</th>\n",
       "      <td>108439</td>\n",
       "      <td>26</td>\n",
       "      <td>14</td>\n",
       "      <td>4</td>\n",
       "      <td>0</td>\n",
       "      <td>1</td>\n",
       "      <td>0</td>\n",
       "      <td>0</td>\n",
       "      <td>0</td>\n",
       "      <td>1</td>\n",
       "      <td>...</td>\n",
       "      <td>0</td>\n",
       "      <td>0</td>\n",
       "      <td>0</td>\n",
       "      <td>0</td>\n",
       "      <td>0</td>\n",
       "      <td>0</td>\n",
       "      <td>0</td>\n",
       "      <td>0</td>\n",
       "      <td>0</td>\n",
       "      <td>0</td>\n",
       "    </tr>\n",
       "  </tbody>\n",
       "</table>\n",
       "<p>5 rows × 192 columns</p>\n",
       "</div>"
      ],
      "text/plain": [
       "   user_id  purchase_value  purchase_hour  purchase_month  class  source_Ads  \\\n",
       "0   285108              31             14               9      0           0   \n",
       "1   131009              31              4               4      0           0   \n",
       "2   328855              16             12               4      0           0   \n",
       "3   229053              29             10               1      0           0   \n",
       "4   108439              26             14               4      0           1   \n",
       "\n",
       "   source_Direct  source_SEO  sex_F  sex_M        ...         \\\n",
       "0              1           0      0      1        ...          \n",
       "1              0           1      1      0        ...          \n",
       "2              1           0      0      1        ...          \n",
       "3              0           1      0      1        ...          \n",
       "4              0           0      0      1        ...          \n",
       "\n",
       "   country_United States  country_Uruguay  country_Uzbekistan  \\\n",
       "0                      1                0                   0   \n",
       "1                      0                0                   0   \n",
       "2                      1                0                   0   \n",
       "3                      0                0                   0   \n",
       "4                      0                0                   0   \n",
       "\n",
       "   country_Vanuatu  country_Venezuela  country_Viet Nam  \\\n",
       "0                0                  0                 0   \n",
       "1                0                  0                 0   \n",
       "2                0                  0                 0   \n",
       "3                0                  0                 0   \n",
       "4                0                  0                 0   \n",
       "\n",
       "   country_Virgin Islands (U.S.)  country_Yemen  country_Zambia  \\\n",
       "0                              0              0               0   \n",
       "1                              0              0               0   \n",
       "2                              0              0               0   \n",
       "3                              0              0               0   \n",
       "4                              0              0               0   \n",
       "\n",
       "   country_Zimbabwe  \n",
       "0                 0  \n",
       "1                 0  \n",
       "2                 0  \n",
       "3                 0  \n",
       "4                 0  \n",
       "\n",
       "[5 rows x 192 columns]"
      ]
     },
     "execution_count": 377,
     "metadata": {},
     "output_type": "execute_result"
    }
   ],
   "source": [
    "df_one=OneEncode(df_new)\n",
    "df_one=df_one.select_dtypes(exclude=['category','object'])\n",
    "df_one.head()"
   ]
  },
  {
   "cell_type": "code",
   "execution_count": 378,
   "metadata": {
    "hidden": true
   },
   "outputs": [
    {
     "data": {
      "text/plain": [
       "user_id           0\n",
       "purchase_value    0\n",
       "source            0\n",
       "sex               0\n",
       "age_group         0\n",
       "country           0\n",
       "purchase_hour     0\n",
       "purchase_month    0\n",
       "class             0\n",
       "dtype: int64"
      ]
     },
     "execution_count": 378,
     "metadata": {},
     "output_type": "execute_result"
    }
   ],
   "source": [
    "df_new.isna().sum()"
   ]
  },
  {
   "cell_type": "markdown",
   "metadata": {
    "hidden": true
   },
   "source": [
    "<h3>Splitting datset into train,test and valid</h3>\n",
    "<br>\n",
    "-Training: 80% - 96000\n",
    "<br>-Testing and Validation: 20% - 24000\n",
    "<br> -- Testing(70%): 16800\n",
    "<br> -- Validation(30%): 7200"
   ]
  },
  {
   "cell_type": "code",
   "execution_count": 416,
   "metadata": {
    "hidden": true
   },
   "outputs": [],
   "source": [
    "def split(df_new):\n",
    "    fraud_df = shuffle(df_new[df_new[\"class\"] == 1])\n",
    "    normal_df = shuffle(df_new[df_new[\"class\"] == 0])\n",
    "    X_train = pd.concat([fraud_df.sample(frac=0.8), normal_df.sample(frac = 0.8)], axis = 0)\n",
    "    rem_ = df_new.loc[~df_new.index.isin(X_train.index)]\n",
    "    X_test = rem_.sample(frac=0.7)\n",
    "    X_valid = rem_.loc[~rem_.index.isin(X_test.index)]\n",
    "    return X_train,X_test,X_valid"
   ]
  },
  {
   "cell_type": "code",
   "execution_count": 417,
   "metadata": {
    "hidden": true
   },
   "outputs": [],
   "source": [
    "X_one_train,X_test_one,X_valid_one=split(df_one)"
   ]
  },
  {
   "cell_type": "code",
   "execution_count": 418,
   "metadata": {
    "hidden": true
   },
   "outputs": [],
   "source": [
    "def target_(X_train,X_test,X_valid):\n",
    "    y_train = X_train[\"class\"]\n",
    "    y_test = X_test[\"class\"]\n",
    "    y_valid = X_valid[\"class\"]\n",
    "    del X_train[\"class\"]\n",
    "    del X_test[\"class\"]\n",
    "    del X_valid[\"class\"]\n",
    "    return y_train,y_test,y_valid\n",
    "    "
   ]
  },
  {
   "cell_type": "code",
   "execution_count": 419,
   "metadata": {
    "hidden": true
   },
   "outputs": [
    {
     "data": {
      "text/plain": [
       "['user_id',\n",
       " 'purchase_value',\n",
       " 'purchase_hour',\n",
       " 'purchase_month',\n",
       " 'source_Ads',\n",
       " 'source_Direct',\n",
       " 'source_SEO',\n",
       " 'sex_F',\n",
       " 'sex_M',\n",
       " 'age_group_Adults',\n",
       " 'age_group_Middle Age',\n",
       " 'age_group_None',\n",
       " 'age_group_Old',\n",
       " 'age_group_Youth',\n",
       " 'country_Afghanistan',\n",
       " 'country_Albania',\n",
       " 'country_Algeria',\n",
       " 'country_Angola',\n",
       " 'country_Antigua and Barbuda',\n",
       " 'country_Argentina',\n",
       " 'country_Armenia',\n",
       " 'country_Australia',\n",
       " 'country_Austria',\n",
       " 'country_Azerbaijan',\n",
       " 'country_Bahamas',\n",
       " 'country_Bahrain',\n",
       " 'country_Bangladesh',\n",
       " 'country_Barbados',\n",
       " 'country_Belarus',\n",
       " 'country_Belgium',\n",
       " 'country_Belize',\n",
       " 'country_Benin',\n",
       " 'country_Bermuda',\n",
       " 'country_Bhutan',\n",
       " 'country_Bolivia',\n",
       " 'country_Bosnia and Herzegowina',\n",
       " 'country_Botswana',\n",
       " 'country_Brazil',\n",
       " 'country_British Indian Ocean Territory',\n",
       " 'country_Brunei Darussalam',\n",
       " 'country_Bulgaria',\n",
       " 'country_Burkina Faso',\n",
       " 'country_Cambodia',\n",
       " 'country_Cameroon',\n",
       " 'country_Canada',\n",
       " 'country_Cape Verde',\n",
       " 'country_Cayman Islands',\n",
       " 'country_Chile',\n",
       " 'country_China',\n",
       " 'country_Colombia',\n",
       " 'country_Congo',\n",
       " 'country_Congo The Democratic Republic of The',\n",
       " 'country_Costa Rica',\n",
       " \"country_Cote D'ivoire\",\n",
       " 'country_Croatia (LOCAL Name: Hrvatska)',\n",
       " 'country_Cuba',\n",
       " 'country_Curacao',\n",
       " 'country_Cyprus',\n",
       " 'country_Czech Republic',\n",
       " 'country_Denmark',\n",
       " 'country_Djibouti',\n",
       " 'country_Dominica',\n",
       " 'country_Dominican Republic',\n",
       " 'country_Ecuador',\n",
       " 'country_Egypt',\n",
       " 'country_El Salvador',\n",
       " 'country_Estonia',\n",
       " 'country_Ethiopia',\n",
       " 'country_European Union',\n",
       " 'country_Faroe Islands',\n",
       " 'country_Fiji',\n",
       " 'country_Finland',\n",
       " 'country_France',\n",
       " 'country_Gabon',\n",
       " 'country_Gambia',\n",
       " 'country_Georgia',\n",
       " 'country_Germany',\n",
       " 'country_Ghana',\n",
       " 'country_Gibraltar',\n",
       " 'country_Greece',\n",
       " 'country_Guadeloupe',\n",
       " 'country_Guam',\n",
       " 'country_Guatemala',\n",
       " 'country_Haiti',\n",
       " 'country_Honduras',\n",
       " 'country_Hong Kong',\n",
       " 'country_Hungary',\n",
       " 'country_Iceland',\n",
       " 'country_India',\n",
       " 'country_Indonesia',\n",
       " 'country_Iran (ISLAMIC Republic Of)',\n",
       " 'country_Iraq',\n",
       " 'country_Ireland',\n",
       " 'country_Israel',\n",
       " 'country_Italy',\n",
       " 'country_Jamaica',\n",
       " 'country_Japan',\n",
       " 'country_Jordan',\n",
       " 'country_Kazakhstan',\n",
       " 'country_Kenya',\n",
       " 'country_Korea Republic of',\n",
       " 'country_Kuwait',\n",
       " 'country_Kyrgyzstan',\n",
       " \"country_Lao People's Democratic Republic\",\n",
       " 'country_Latvia',\n",
       " 'country_Lebanon',\n",
       " 'country_Lesotho',\n",
       " 'country_Libyan Arab Jamahiriya',\n",
       " 'country_Liechtenstein',\n",
       " 'country_Lithuania',\n",
       " 'country_Luxembourg',\n",
       " 'country_Macau',\n",
       " 'country_Macedonia',\n",
       " 'country_Madagascar',\n",
       " 'country_Malawi',\n",
       " 'country_Malaysia',\n",
       " 'country_Maldives',\n",
       " 'country_Malta',\n",
       " 'country_Mauritius',\n",
       " 'country_Mexico',\n",
       " 'country_Moldova Republic of',\n",
       " 'country_Monaco',\n",
       " 'country_Mongolia',\n",
       " 'country_Montenegro',\n",
       " 'country_Morocco',\n",
       " 'country_Mozambique',\n",
       " 'country_Myanmar',\n",
       " 'country_Namibia',\n",
       " 'country_Nauru',\n",
       " 'country_Nepal',\n",
       " 'country_Netherlands',\n",
       " 'country_New Caledonia',\n",
       " 'country_New Zealand',\n",
       " 'country_Nicaragua',\n",
       " 'country_Nigeria',\n",
       " 'country_None',\n",
       " 'country_Norway',\n",
       " 'country_Oman',\n",
       " 'country_Pakistan',\n",
       " 'country_Palestinian Territory Occupied',\n",
       " 'country_Panama',\n",
       " 'country_Papua New Guinea',\n",
       " 'country_Paraguay',\n",
       " 'country_Peru',\n",
       " 'country_Philippines',\n",
       " 'country_Poland',\n",
       " 'country_Portugal',\n",
       " 'country_Puerto Rico',\n",
       " 'country_Qatar',\n",
       " 'country_Reunion',\n",
       " 'country_Romania',\n",
       " 'country_Russian Federation',\n",
       " 'country_Rwanda',\n",
       " 'country_Saint Kitts and Nevis',\n",
       " 'country_San Marino',\n",
       " 'country_Saudi Arabia',\n",
       " 'country_Senegal',\n",
       " 'country_Serbia',\n",
       " 'country_Seychelles',\n",
       " 'country_Singapore',\n",
       " 'country_Slovakia (SLOVAK Republic)',\n",
       " 'country_Slovenia',\n",
       " 'country_South Africa',\n",
       " 'country_South Sudan',\n",
       " 'country_Spain',\n",
       " 'country_Sri Lanka',\n",
       " 'country_Sudan',\n",
       " 'country_Sweden',\n",
       " 'country_Switzerland',\n",
       " 'country_Syrian Arab Republic',\n",
       " 'country_Taiwan; Republic of China (ROC)',\n",
       " 'country_Tanzania United Republic of',\n",
       " 'country_Thailand',\n",
       " 'country_Trinidad and Tobago',\n",
       " 'country_Tunisia',\n",
       " 'country_Turkey',\n",
       " 'country_Turkmenistan',\n",
       " 'country_Uganda',\n",
       " 'country_Ukraine',\n",
       " 'country_United Arab Emirates',\n",
       " 'country_United Kingdom',\n",
       " 'country_United States',\n",
       " 'country_Uruguay',\n",
       " 'country_Uzbekistan',\n",
       " 'country_Vanuatu',\n",
       " 'country_Venezuela',\n",
       " 'country_Viet Nam',\n",
       " 'country_Virgin Islands (U.S.)',\n",
       " 'country_Yemen',\n",
       " 'country_Zambia',\n",
       " 'country_Zimbabwe']"
      ]
     },
     "execution_count": 419,
     "metadata": {},
     "output_type": "execute_result"
    }
   ],
   "source": [
    "y_train_one,y_test_one,y_valid_one=target_(X_one_train,X_test_one,X_valid_one)\n",
    "list(X_one_train.columns)"
   ]
  },
  {
   "cell_type": "code",
   "execution_count": 313,
   "metadata": {
    "hidden": true
   },
   "outputs": [],
   "source": [
    "def save_data(X_train,X_test,X_valid,y_train,y_test,y_valid,filename):\n",
    "    dataset = {'X_train' : X_train,'X_test': X_test,'X_valid': X_valid,\n",
    "           'y_train': y_train,'y_test': y_test,'y_valid': y_valid}\n",
    "    with open(filename, 'wb+') as f:\n",
    "               pickle.dump(dataset, f)"
   ]
  },
  {
   "cell_type": "markdown",
   "metadata": {
    "heading_collapsed": true
   },
   "source": [
    "### Machine Learning"
   ]
  },
  {
   "cell_type": "markdown",
   "metadata": {
    "heading_collapsed": true,
    "hidden": true
   },
   "source": [
    "#### Confusion Matrix Function"
   ]
  },
  {
   "cell_type": "code",
   "execution_count": 254,
   "metadata": {
    "hidden": true
   },
   "outputs": [],
   "source": [
    "def plot_confusion_matrix(y_test, pred):\n",
    "    cm = confusion_matrix(y_test, pred)\n",
    "    ax= plt.subplot()\n",
    "    sns.heatmap(cm, annot=True, ax = ax); #annot=True to annotate cells\n",
    "    ax.set_xlabel('Predicted labels');ax.set_ylabel('True labels'); \n",
    "    ax.set_title('Confusion Matrix');\n",
    "    print('---Metrics--------')\n",
    "    print(classification_report(y_test,pred))\n"
   ]
  },
  {
   "cell_type": "markdown",
   "metadata": {
    "heading_collapsed": true,
    "hidden": true
   },
   "source": [
    "#### Baselines"
   ]
  },
  {
   "cell_type": "markdown",
   "metadata": {
    "heading_collapsed": true,
    "hidden": true
   },
   "source": [
    "##### SVM"
   ]
  },
  {
   "cell_type": "code",
   "execution_count": 399,
   "metadata": {
    "hidden": true
   },
   "outputs": [],
   "source": [
    "# Function for traing SVM\n",
    "def linear_svm(f):\n",
    "    with open(f, 'rb+') as f:\n",
    "        dataset = pickle.load(f)\n",
    "    lsvm = svm.LinearSVC(C=0.1, dual=False)\n",
    "    lsvm.fit(dataset['X_train'], dataset['y_train'])\n",
    "    y_pred = lsvm.predict(dataset['X_test'])\n",
    "    plot_confusion_matrix(dataset['y_test'], y_pred)\n",
    "    print(\"AUCROC:--\")\n",
    "    print(roc_auc_score(dataset['y_test'], y_pred))\n",
    "  "
   ]
  },
  {
   "cell_type": "code",
   "execution_count": 420,
   "metadata": {
    "hidden": true
   },
   "outputs": [],
   "source": [
    "save_data(X_one_train,X_test_one,X_valid_one,y_train_one,y_test_one,y_valid_one,\"OneHot.pkl\")"
   ]
  },
  {
   "cell_type": "code",
   "execution_count": 421,
   "metadata": {
    "hidden": true
   },
   "outputs": [
    {
     "name": "stdout",
     "output_type": "stream",
     "text": [
      "---Metrics--------\n",
      "             precision    recall  f1-score   support\n",
      "\n",
      "          0       0.90      1.00      0.95     15200\n",
      "          1       0.00      0.00      0.00      1600\n",
      "\n",
      "avg / total       0.82      0.90      0.86     16800\n",
      "\n",
      "AUCROC:--\n",
      "0.5\n"
     ]
    },
    {
     "name": "stderr",
     "output_type": "stream",
     "text": [
      "/opt/anaconda3/lib/python3.7/site-packages/sklearn/metrics/classification.py:1135: UndefinedMetricWarning: Precision and F-score are ill-defined and being set to 0.0 in labels with no predicted samples.\n",
      "  'precision', 'predicted', average, warn_for)\n"
     ]
    },
    {
     "data": {
      "image/png": "[encoded data removed]",
      "text/plain": [
       "<Figure size 1152x720 with 2 Axes>"
      ]
     },
     "metadata": {
      "needs_background": "light"
     },
     "output_type": "display_data"
    }
   ],
   "source": [
    "linear_svm(\"OneHot.pkl\")"
   ]
  },
  {
   "cell_type": "markdown",
   "metadata": {
    "hidden": true
   },
   "source": [
    "Model is unable to classify the poistive class correctly and essentially the decison boundary seems to be non linear and hence, some non linear models need to be implemeted. We will start with <b>Random Forest</b>."
   ]
  },
  {
   "cell_type": "markdown",
   "metadata": {
    "heading_collapsed": true,
    "hidden": true
   },
   "source": [
    "##### Random Forest"
   ]
  },
  {
   "cell_type": "code",
   "execution_count": 453,
   "metadata": {
    "hidden": true
   },
   "outputs": [],
   "source": [
    "# Function for Random Forest\n",
    "def rf(f):\n",
    "    with open(f, 'rb+') as f:\n",
    "        dataset = pickle.load(f)\n",
    "    rf = RandomForestClassifier(n_estimators=100, oob_score=True, n_jobs=4)\n",
    "    forest=rf.fit(dataset['X_train'], dataset['y_train'])\n",
    "    y_pred = rf.predict(dataset['X_test'])\n",
    "    plot_confusion_matrix(dataset['y_test'], y_pred)\n",
    "    print(\"AUCROC:--\")\n",
    "    print(roc_auc_score(dataset['y_test'], y_pred))\n",
    "    return forest\n"
   ]
  },
  {
   "cell_type": "code",
   "execution_count": 424,
   "metadata": {
    "hidden": true
   },
   "outputs": [
    {
     "name": "stdout",
     "output_type": "stream",
     "text": [
      "---Metrics--------\n",
      "             precision    recall  f1-score   support\n",
      "\n",
      "          0       0.95      0.99      0.97     15200\n",
      "          1       0.84      0.54      0.66      1600\n",
      "\n",
      "avg / total       0.94      0.95      0.94     16800\n",
      "\n",
      "AUCROC:--\n",
      "0.7641447368421053\n"
     ]
    },
    {
     "data": {
      "image/png": "[encoded data removed]",
      "text/plain": [
       "<Figure size 1152x720 with 2 Axes>"
      ]
     },
     "metadata": {
      "needs_background": "light"
     },
     "output_type": "display_data"
    }
   ],
   "source": [
    "m=rf(\"OneHot.pkl\")"
   ]
  },
  {
   "cell_type": "markdown",
   "metadata": {
    "hidden": true
   },
   "source": [
    "Our model with was able to achieve 95% precision for the negative class label i.e. Normal transaction.This was expected since we’re dealing with imbalanced data, so for the model it’s easy to notice that predicting everything as negative class will reduce the error.\n",
    "Whereas recall is 51% for the positive class (fraud).\n",
    "To understand whats going on lets see one more metric known as Area Under the Receiver-Operating Characteristic (AUROC) metric. AUROC represents the likelihood of your model distinguishing observations from two classes. In simple words, if you randomly select one observation from each class, what’s the probability that your model will be able to “rank” them correctly?\n",
    "For this model its 74% likely it will classify correctly.\n",
    "\n",
    "<br>\n",
    "<br>"
   ]
  },
  {
   "cell_type": "markdown",
   "metadata": {
    "heading_collapsed": true,
    "hidden": true
   },
   "source": [
    "##### eXtreme Gradient Boosting"
   ]
  },
  {
   "cell_type": "code",
   "execution_count": 402,
   "metadata": {
    "hidden": true
   },
   "outputs": [],
   "source": [
    "#Function for XGB\n",
    "def XGB(f):\n",
    "    with open(f, 'rb+') as f:\n",
    "        dataset = pickle.load(f)\n",
    "    model = XGBClassifier()\n",
    "    model.fit(dataset['X_train'], dataset['y_train'])\n",
    "    y_pred = model.predict(dataset['X_test'])\n",
    "    plot_confusion_matrix(dataset['y_test'], y_pred)\n",
    "    print(\"AUCROC:--\")\n",
    "    print(roc_auc_score(dataset['y_test'], y_pred))"
   ]
  },
  {
   "cell_type": "code",
   "execution_count": 425,
   "metadata": {
    "hidden": true
   },
   "outputs": [
    {
     "name": "stdout",
     "output_type": "stream",
     "text": [
      "---Metrics--------\n",
      "             precision    recall  f1-score   support\n",
      "\n",
      "          0       0.95      0.98      0.97     15200\n",
      "          1       0.76      0.55      0.64      1600\n",
      "\n",
      "avg / total       0.94      0.94      0.94     16800\n",
      "\n",
      "AUCROC:--\n",
      "0.7651480263157895\n"
     ]
    },
    {
     "name": "stderr",
     "output_type": "stream",
     "text": [
      "/opt/anaconda3/lib/python3.7/site-packages/sklearn/preprocessing/label.py:151: DeprecationWarning: The truth value of an empty array is ambiguous. Returning False, but in future this will result in an error. Use `array.size > 0` to check that an array is not empty.\n",
      "  if diff:\n"
     ]
    },
    {
     "data": {
      "image/png": "[encoded data removed]",
      "text/plain": [
       "<Figure size 1152x720 with 2 Axes>"
      ]
     },
     "metadata": {
      "needs_background": "light"
     },
     "output_type": "display_data"
    }
   ],
   "source": [
    "XGB(\"OneHot.pkl\")"
   ]
  },
  {
   "cell_type": "markdown",
   "metadata": {
    "hidden": true
   },
   "source": [
    "In the end, by using RF AND XGB , we were able to improve our recall for the positive class by 55% — we reduced false negatives. Now, models may not help improve more, we need to look for sampling technique that will help us increase data and also recall for positive class."
   ]
  },
  {
   "cell_type": "markdown",
   "metadata": {
    "heading_collapsed": true,
    "hidden": true
   },
   "source": [
    "#### Sampling"
   ]
  },
  {
   "cell_type": "markdown",
   "metadata": {
    "hidden": true
   },
   "source": [
    "<h3>Ways to Handle Imbalanced data set:<br></h3>\n",
    "    1) Undersampling<br>\n",
    "    2) Oversampling<br>\n",
    "<br>For this I will be using oversampling technique \"ADASYN\" quite simillar to  SMOTE just with a minor improvement. The way it works is after creating those sample it adds a random small values to the points thus making it more realistic."
   ]
  },
  {
   "cell_type": "code",
   "execution_count": 426,
   "metadata": {
    "hidden": true
   },
   "outputs": [],
   "source": [
    "\n",
    "ada = ADASYN()\n",
    "X_train,X_test,X_valid=split(df_one)\n"
   ]
  },
  {
   "cell_type": "code",
   "execution_count": 427,
   "metadata": {
    "hidden": true
   },
   "outputs": [
    {
     "name": "stderr",
     "output_type": "stream",
     "text": [
      "/opt/anaconda3/lib/python3.7/site-packages/ipykernel_launcher.py:1: DeprecationWarning: \n",
      ".ix is deprecated. Please use\n",
      ".loc for label based indexing or\n",
      ".iloc for positional indexing\n",
      "\n",
      "See the documentation here:\n",
      "http://pandas.pydata.org/pandas-docs/stable/indexing.html#ix-indexer-is-deprecated\n",
      "  \"\"\"Entry point for launching an IPython kernel.\n",
      "/opt/anaconda3/lib/python3.7/site-packages/pandas/core/indexing.py:890: DeprecationWarning: \n",
      ".ix is deprecated. Please use\n",
      ".loc for label based indexing or\n",
      ".iloc for positional indexing\n",
      "\n",
      "See the documentation here:\n",
      "http://pandas.pydata.org/pandas-docs/stable/indexing.html#ix-indexer-is-deprecated\n",
      "  retval = getattr(retval, self.name)._getitem_axis(key, axis=i)\n"
     ]
    }
   ],
   "source": [
    "data_resampled, data_labels_resampled = ada.fit_sample(np.array(X_train.ix[:, X_train.columns != 'class']), \n",
    "               np.array(X_train[\"class\"]))"
   ]
  },
  {
   "cell_type": "code",
   "execution_count": 428,
   "metadata": {
    "hidden": true
   },
   "outputs": [
    {
     "data": {
      "text/plain": [
       "(177544, 191)"
      ]
     },
     "execution_count": 428,
     "metadata": {},
     "output_type": "execute_result"
    }
   ],
   "source": [
    "data_resampled.shape"
   ]
  },
  {
   "cell_type": "code",
   "execution_count": 429,
   "metadata": {
    "hidden": true
   },
   "outputs": [
    {
     "data": {
      "text/plain": [
       "(177544,)"
      ]
     },
     "execution_count": 429,
     "metadata": {},
     "output_type": "execute_result"
    }
   ],
   "source": [
    "data_labels_resampled.shape"
   ]
  },
  {
   "cell_type": "code",
   "execution_count": 430,
   "metadata": {
    "hidden": true
   },
   "outputs": [],
   "source": [
    "with open('data_res.pkl', 'wb+') as f:\n",
    "    pickle.dump(data_resampled, f)\n",
    "with open('data_label.pkl', 'wb+') as f:\n",
    "    pickle.dump(data_labels_resampled, f)\n"
   ]
  },
  {
   "cell_type": "code",
   "execution_count": 431,
   "metadata": {
    "hidden": true
   },
   "outputs": [
    {
     "name": "stdout",
     "output_type": "stream",
     "text": [
      "Counter({1: 90556, 0: 86988})\n"
     ]
    }
   ],
   "source": [
    "\n",
    "with open('data_res.pkl', 'rb') as f:\n",
    "    X_train_resampled = pickle.load(f)\n",
    "with open('data_label.pkl', 'rb') as f:\n",
    "    X_train_labels_resampled = pickle.load(f)\n",
    "    \n",
    "print(Counter(X_train_labels_resampled))"
   ]
  },
  {
   "cell_type": "code",
   "execution_count": 432,
   "metadata": {
    "hidden": true
   },
   "outputs": [
    {
     "data": {
      "text/html": [
       "<div>\n",
       "<style scoped>\n",
       "    .dataframe tbody tr th:only-of-type {\n",
       "        vertical-align: middle;\n",
       "    }\n",
       "\n",
       "    .dataframe tbody tr th {\n",
       "        vertical-align: top;\n",
       "    }\n",
       "\n",
       "    .dataframe thead th {\n",
       "        text-align: right;\n",
       "    }\n",
       "</style>\n",
       "<table border=\"1\" class=\"dataframe\">\n",
       "  <thead>\n",
       "    <tr style=\"text-align: right;\">\n",
       "      <th></th>\n",
       "      <th>user_id</th>\n",
       "      <th>purchase_value</th>\n",
       "      <th>purchase_hour</th>\n",
       "      <th>purchase_month</th>\n",
       "      <th>class</th>\n",
       "      <th>source_Ads</th>\n",
       "      <th>source_Direct</th>\n",
       "      <th>source_SEO</th>\n",
       "      <th>sex_F</th>\n",
       "      <th>sex_M</th>\n",
       "      <th>...</th>\n",
       "      <th>country_United States</th>\n",
       "      <th>country_Uruguay</th>\n",
       "      <th>country_Uzbekistan</th>\n",
       "      <th>country_Vanuatu</th>\n",
       "      <th>country_Venezuela</th>\n",
       "      <th>country_Viet Nam</th>\n",
       "      <th>country_Virgin Islands (U.S.)</th>\n",
       "      <th>country_Yemen</th>\n",
       "      <th>country_Zambia</th>\n",
       "      <th>country_Zimbabwe</th>\n",
       "    </tr>\n",
       "  </thead>\n",
       "  <tbody>\n",
       "    <tr>\n",
       "      <th>0</th>\n",
       "      <td>265534</td>\n",
       "      <td>32</td>\n",
       "      <td>9</td>\n",
       "      <td>10</td>\n",
       "      <td>1</td>\n",
       "      <td>0</td>\n",
       "      <td>0</td>\n",
       "      <td>0</td>\n",
       "      <td>1</td>\n",
       "      <td>0</td>\n",
       "      <td>...</td>\n",
       "      <td>0</td>\n",
       "      <td>0</td>\n",
       "      <td>0</td>\n",
       "      <td>0</td>\n",
       "      <td>0</td>\n",
       "      <td>0</td>\n",
       "      <td>0</td>\n",
       "      <td>0</td>\n",
       "      <td>0</td>\n",
       "      <td>1</td>\n",
       "    </tr>\n",
       "    <tr>\n",
       "      <th>1</th>\n",
       "      <td>23137</td>\n",
       "      <td>20</td>\n",
       "      <td>21</td>\n",
       "      <td>1</td>\n",
       "      <td>1</td>\n",
       "      <td>0</td>\n",
       "      <td>0</td>\n",
       "      <td>0</td>\n",
       "      <td>1</td>\n",
       "      <td>1</td>\n",
       "      <td>...</td>\n",
       "      <td>0</td>\n",
       "      <td>0</td>\n",
       "      <td>0</td>\n",
       "      <td>0</td>\n",
       "      <td>0</td>\n",
       "      <td>0</td>\n",
       "      <td>0</td>\n",
       "      <td>0</td>\n",
       "      <td>0</td>\n",
       "      <td>1</td>\n",
       "    </tr>\n",
       "    <tr>\n",
       "      <th>2</th>\n",
       "      <td>101142</td>\n",
       "      <td>21</td>\n",
       "      <td>8</td>\n",
       "      <td>1</td>\n",
       "      <td>1</td>\n",
       "      <td>0</td>\n",
       "      <td>0</td>\n",
       "      <td>0</td>\n",
       "      <td>1</td>\n",
       "      <td>1</td>\n",
       "      <td>...</td>\n",
       "      <td>0</td>\n",
       "      <td>0</td>\n",
       "      <td>0</td>\n",
       "      <td>0</td>\n",
       "      <td>0</td>\n",
       "      <td>0</td>\n",
       "      <td>0</td>\n",
       "      <td>0</td>\n",
       "      <td>0</td>\n",
       "      <td>1</td>\n",
       "    </tr>\n",
       "    <tr>\n",
       "      <th>3</th>\n",
       "      <td>300367</td>\n",
       "      <td>61</td>\n",
       "      <td>7</td>\n",
       "      <td>1</td>\n",
       "      <td>0</td>\n",
       "      <td>1</td>\n",
       "      <td>0</td>\n",
       "      <td>0</td>\n",
       "      <td>1</td>\n",
       "      <td>0</td>\n",
       "      <td>...</td>\n",
       "      <td>0</td>\n",
       "      <td>0</td>\n",
       "      <td>0</td>\n",
       "      <td>0</td>\n",
       "      <td>0</td>\n",
       "      <td>0</td>\n",
       "      <td>0</td>\n",
       "      <td>0</td>\n",
       "      <td>0</td>\n",
       "      <td>1</td>\n",
       "    </tr>\n",
       "    <tr>\n",
       "      <th>4</th>\n",
       "      <td>322684</td>\n",
       "      <td>17</td>\n",
       "      <td>17</td>\n",
       "      <td>1</td>\n",
       "      <td>0</td>\n",
       "      <td>0</td>\n",
       "      <td>1</td>\n",
       "      <td>0</td>\n",
       "      <td>1</td>\n",
       "      <td>0</td>\n",
       "      <td>...</td>\n",
       "      <td>0</td>\n",
       "      <td>0</td>\n",
       "      <td>0</td>\n",
       "      <td>0</td>\n",
       "      <td>0</td>\n",
       "      <td>0</td>\n",
       "      <td>0</td>\n",
       "      <td>0</td>\n",
       "      <td>0</td>\n",
       "      <td>1</td>\n",
       "    </tr>\n",
       "  </tbody>\n",
       "</table>\n",
       "<p>5 rows × 192 columns</p>\n",
       "</div>"
      ],
      "text/plain": [
       "   user_id  purchase_value  purchase_hour  purchase_month  class  source_Ads  \\\n",
       "0   265534              32              9              10      1           0   \n",
       "1    23137              20             21               1      1           0   \n",
       "2   101142              21              8               1      1           0   \n",
       "3   300367              61              7               1      0           1   \n",
       "4   322684              17             17               1      0           0   \n",
       "\n",
       "   source_Direct  source_SEO  sex_F  sex_M        ...         \\\n",
       "0              0           0      1      0        ...          \n",
       "1              0           0      1      1        ...          \n",
       "2              0           0      1      1        ...          \n",
       "3              0           0      1      0        ...          \n",
       "4              1           0      1      0        ...          \n",
       "\n",
       "   country_United States  country_Uruguay  country_Uzbekistan  \\\n",
       "0                      0                0                   0   \n",
       "1                      0                0                   0   \n",
       "2                      0                0                   0   \n",
       "3                      0                0                   0   \n",
       "4                      0                0                   0   \n",
       "\n",
       "   country_Vanuatu  country_Venezuela  country_Viet Nam  \\\n",
       "0                0                  0                 0   \n",
       "1                0                  0                 0   \n",
       "2                0                  0                 0   \n",
       "3                0                  0                 0   \n",
       "4                0                  0                 0   \n",
       "\n",
       "   country_Virgin Islands (U.S.)  country_Yemen  country_Zambia  \\\n",
       "0                              0              0               0   \n",
       "1                              0              0               0   \n",
       "2                              0              0               0   \n",
       "3                              0              0               0   \n",
       "4                              0              0               0   \n",
       "\n",
       "   country_Zimbabwe  \n",
       "0                 1  \n",
       "1                 1  \n",
       "2                 1  \n",
       "3                 1  \n",
       "4                 1  \n",
       "\n",
       "[5 rows x 192 columns]"
      ]
     },
     "execution_count": 432,
     "metadata": {},
     "output_type": "execute_result"
    }
   ],
   "source": [
    "X_train_resampled = pd.DataFrame(X_train_resampled)\n",
    "X_train_labels_resampled = pd.DataFrame(X_train_labels_resampled)\n",
    "X_train_resampled = pd.concat([X_train_resampled, X_train_labels_resampled], axis=1)\n",
    "X_train_resampled.columns = X_train.columns\n",
    "X_train_resampled.head()"
   ]
  },
  {
   "cell_type": "code",
   "execution_count": 433,
   "metadata": {
    "hidden": true
   },
   "outputs": [],
   "source": [
    "X_train,X_test,X_valid=split(X_train_resampled)"
   ]
  },
  {
   "cell_type": "code",
   "execution_count": 440,
   "metadata": {
    "hidden": true
   },
   "outputs": [],
   "source": [
    "y_train_one,y_test_one,y_valid_one=target_(X_train,X_test,X_valid)"
   ]
  },
  {
   "cell_type": "code",
   "execution_count": 441,
   "metadata": {
    "hidden": true
   },
   "outputs": [],
   "source": [
    "save_data(X_train,X_test,X_valid,y_train_one,y_test_one,y_valid_one,\"OneHot_r.pkl\")"
   ]
  },
  {
   "cell_type": "markdown",
   "metadata": {
    "heading_collapsed": true,
    "hidden": true
   },
   "source": [
    "#### Random Forest with 100 estimators"
   ]
  },
  {
   "cell_type": "code",
   "execution_count": 446,
   "metadata": {
    "hidden": true
   },
   "outputs": [
    {
     "name": "stdout",
     "output_type": "stream",
     "text": [
      "---Metrics--------\n",
      "             precision    recall  f1-score   support\n",
      "\n",
      "          0       0.94      0.99      0.96     17786\n",
      "          1       0.96      0.83      0.89      7070\n",
      "\n",
      "avg / total       0.94      0.94      0.94     24856\n",
      "\n",
      "AUCROC:--\n",
      "0.910449376852032\n"
     ]
    },
    {
     "data": {
      "image/png": "[encoded data removed]",
      "text/plain": [
       "<Figure size 1152x720 with 2 Axes>"
      ]
     },
     "metadata": {
      "needs_background": "light"
     },
     "output_type": "display_data"
    }
   ],
   "source": [
    "m=rf(\"OneHot_r.pkl\")"
   ]
  },
  {
   "cell_type": "markdown",
   "metadata": {
    "hidden": true
   },
   "source": [
    "Random forest has a good recall score i.e. 83% which is 29% better. Oversampling helped in increasing the instances of negative class and hence, improving both precison and recall. Also, the AUCROC score is 91% which is quite good."
   ]
  },
  {
   "cell_type": "markdown",
   "metadata": {
    "heading_collapsed": true,
    "hidden": true
   },
   "source": [
    "#### XGB"
   ]
  },
  {
   "cell_type": "code",
   "execution_count": 447,
   "metadata": {
    "hidden": true
   },
   "outputs": [
    {
     "name": "stderr",
     "output_type": "stream",
     "text": [
      "/opt/anaconda3/lib/python3.7/site-packages/sklearn/preprocessing/label.py:151: DeprecationWarning: The truth value of an empty array is ambiguous. Returning False, but in future this will result in an error. Use `array.size > 0` to check that an array is not empty.\n",
      "  if diff:\n"
     ]
    },
    {
     "name": "stdout",
     "output_type": "stream",
     "text": [
      "---Metrics--------\n",
      "             precision    recall  f1-score   support\n",
      "\n",
      "          0       0.89      1.00      0.94     17786\n",
      "          1       1.00      0.70      0.82      7070\n",
      "\n",
      "avg / total       0.92      0.91      0.91     24856\n",
      "\n",
      "AUCROC:--\n",
      "0.8486571769255447\n"
     ]
    },
    {
     "data": {
      "image/png": "[encoded data removed]",
      "text/plain": [
       "<Figure size 1152x720 with 2 Axes>"
      ]
     },
     "metadata": {
      "needs_background": "light"
     },
     "output_type": "display_data"
    }
   ],
   "source": [
    "XGB(\"OneHot_r.pkl\")"
   ]
  },
  {
   "cell_type": "markdown",
   "metadata": {
    "hidden": true
   },
   "source": [
    "For XGB, we have recall of 70% for positive class i.e. less then Random Forest. But precison is 100% for negative class. \n",
    "<br>\n",
    "<br>"
   ]
  },
  {
   "cell_type": "markdown",
   "metadata": {
    "heading_collapsed": true,
    "hidden": true
   },
   "source": [
    "#### Random Forest with 1000 estimators"
   ]
  },
  {
   "cell_type": "code",
   "execution_count": 448,
   "metadata": {
    "hidden": true
   },
   "outputs": [
    {
     "name": "stdout",
     "output_type": "stream",
     "text": [
      "---Metrics--------\n",
      "             precision    recall  f1-score   support\n",
      "\n",
      "          0       0.94      0.99      0.96     17786\n",
      "          1       0.97      0.83      0.90      7070\n",
      "\n",
      "avg / total       0.95      0.94      0.94     24856\n",
      "\n",
      "AUCROC:--\n",
      "0.9113107650582892\n"
     ]
    },
    {
     "data": {
      "text/plain": [
       "RandomForestClassifier(bootstrap=True, class_weight=None, criterion='gini',\n",
       "            max_depth=None, max_features='auto', max_leaf_nodes=None,\n",
       "            min_impurity_decrease=0.0, min_impurity_split=None,\n",
       "            min_samples_leaf=1, min_samples_split=2,\n",
       "            min_weight_fraction_leaf=0.0, n_estimators=1000, n_jobs=4,\n",
       "            oob_score=True, random_state=None, verbose=0, warm_start=False)"
      ]
     },
     "execution_count": 448,
     "metadata": {},
     "output_type": "execute_result"
    },
    {
     "data": {
      "image/png": "[encoded data removed]",
      "text/plain": [
       "<Figure size 1152x720 with 2 Axes>"
      ]
     },
     "metadata": {
      "needs_background": "light"
     },
     "output_type": "display_data"
    }
   ],
   "source": [
    "def rf(f):\n",
    "    with open(f, 'rb+') as f:\n",
    "        dataset = pickle.load(f)\n",
    "    rf = RandomForestClassifier(n_estimators=1000, oob_score=True, n_jobs=4)\n",
    "    forest=rf.fit(dataset['X_train'], dataset['y_train'])\n",
    "    y_pred = rf.predict(dataset['X_test'])\n",
    "    plot_confusion_matrix(dataset['y_test'], y_pred)\n",
    "    print(\"AUCROC:--\")\n",
    "    print(roc_auc_score(dataset['y_test'], y_pred))\n",
    "    return forest\n",
    "rf(\"OneHot_r.pkl\")"
   ]
  },
  {
   "cell_type": "markdown",
   "metadata": {
    "hidden": true
   },
   "source": [
    "After incresing the number of estimators from 100 to 1000 there seems to be increase in precison by 1%, but recall stays same. Hence, we should keep the estimators value same i.e. 100."
   ]
  },
  {
   "cell_type": "markdown",
   "metadata": {
    "heading_collapsed": true,
    "hidden": true
   },
   "source": [
    "#### Top 10 features using Random Forest"
   ]
  },
  {
   "cell_type": "code",
   "execution_count": 452,
   "metadata": {
    "hidden": true
   },
   "outputs": [
    {
     "data": {
      "image/png": "[encoded data removed]",
      "text/plain": [
       "<Figure size 1152x720 with 1 Axes>"
      ]
     },
     "metadata": {
      "needs_background": "light"
     },
     "output_type": "display_data"
    }
   ],
   "source": [
    "def rf_feature(forest):\n",
    "    with open(\"OneHot_r.pkl\", 'rb+') as f:\n",
    "        dataset = pickle.load(f)\n",
    "    (pd.Series(forest.feature_importances_, index=dataset['X_train'].columns).nlargest(10).plot(kind='barh'))\n",
    "rf_feature(m)"
   ]
  },
  {
   "cell_type": "markdown",
   "metadata": {
    "hidden": true
   },
   "source": [
    "One of the top features for classification task was Source:= Direct and then its Source:=Ads. These features had significant contributions to the model predictiveness. Also, interestingly country Zimbabwe seems to have quite relevant information."
   ]
  },
  {
   "cell_type": "markdown",
   "metadata": {
    "heading_collapsed": true
   },
   "source": [
    "### Conclusion"
   ]
  },
  {
   "cell_type": "markdown",
   "metadata": {
    "hidden": true
   },
   "source": [
    "<br>After all the experimentaion and trying sampling techniques, Random forest with ADASYN sampling technique performs best with recall of 83% and precison of 96%.\n",
    "XGB had a better Precison compared to Random Forest at 100% but a recall of 70%.<br>\n",
    "<br>Now decison of using model depends on Electronica primary purpose.\n",
    "<br>1) The first option is to keep cusomer happy i.e. avoiding inconveniences to the Electronica customers whose valid transactions are flagged as fraudlent which cost client values at 8 dollars. For this, XGB will be the highly precise model to be used for this purpose.\n",
    "<br>\n",
    "<br>2) The second option is when Electronica doesn't want to fail identifying fraudulent transaction because it loses money. The loss is equivalent to the price of the fraudulently purchased product and in this case Random Forest will be better model as Recall is high compared to any other model. That came with a price: our precision is now 4% worse than XGB.\n",
    "<br>\n",
    "<br>\n",
    "<b>In the end, it depends on Electronica which client they want to serve. For example if products are of GUCCI,Rolex, etc. whose products are expensive  i.e value more than $8 then Random Forest will be better choice otherwise, if product are of Dollar Tree etc. i.e. value less than 8 dollars then XGB will be better choice.<b>"
   ]
  },
  {
   "cell_type": "markdown",
   "metadata": {
    "heading_collapsed": true
   },
   "source": [
    "### Next Steps"
   ]
  },
  {
   "cell_type": "markdown",
   "metadata": {
    "hidden": true
   },
   "source": [
    "As a next steps, since data is imbalanced implementing autoencoders will be quite interesting. Also, it will be important to include more features such as VPS, Service Provider, State, city etc. which can help in enhancing model predictions."
   ]
  },
  {
   "cell_type": "markdown",
   "metadata": {
    "heading_collapsed": true
   },
   "source": [
    "### END"
   ]
  }
 ],
 "metadata": {
  "kernelspec": {
   "display_name": "Python 3",
   "language": "python",
   "name": "python3"
  },
  "language_info": {
   "codemirror_mode": {
    "name": "ipython",
    "version": 3
   },
   "file_extension": ".py",
   "mimetype": "text/x-python",
   "name": "python",
   "nbconvert_exporter": "python",
   "pygments_lexer": "ipython3",
   "version": "3.6.2"
  }
 },
 "nbformat": 4,
 "nbformat_minor": 2
}
